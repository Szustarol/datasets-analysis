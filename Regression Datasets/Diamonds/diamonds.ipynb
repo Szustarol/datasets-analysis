{
 "cells": [
  {
   "cell_type": "code",
   "execution_count": 3,
   "metadata": {},
   "outputs": [],
   "source": [
    "import numpy as np\n",
    "import pandas as pd"
   ]
  },
  {
   "cell_type": "markdown",
   "metadata": {},
   "source": [
    "Let's load the dataset and see what I have."
   ]
  },
  {
   "cell_type": "code",
   "execution_count": 4,
   "metadata": {},
   "outputs": [
    {
     "data": {
      "text/html": [
       "<div>\n",
       "<style scoped>\n",
       "    .dataframe tbody tr th:only-of-type {\n",
       "        vertical-align: middle;\n",
       "    }\n",
       "\n",
       "    .dataframe tbody tr th {\n",
       "        vertical-align: top;\n",
       "    }\n",
       "\n",
       "    .dataframe thead th {\n",
       "        text-align: right;\n",
       "    }\n",
       "</style>\n",
       "<table border=\"1\" class=\"dataframe\">\n",
       "  <thead>\n",
       "    <tr style=\"text-align: right;\">\n",
       "      <th></th>\n",
       "      <th>Unnamed: 0</th>\n",
       "      <th>carat</th>\n",
       "      <th>cut</th>\n",
       "      <th>color</th>\n",
       "      <th>clarity</th>\n",
       "      <th>depth</th>\n",
       "      <th>table</th>\n",
       "      <th>price</th>\n",
       "      <th>x</th>\n",
       "      <th>y</th>\n",
       "      <th>z</th>\n",
       "    </tr>\n",
       "  </thead>\n",
       "  <tbody>\n",
       "    <tr>\n",
       "      <th>0</th>\n",
       "      <td>1</td>\n",
       "      <td>0.23</td>\n",
       "      <td>Ideal</td>\n",
       "      <td>E</td>\n",
       "      <td>SI2</td>\n",
       "      <td>61.5</td>\n",
       "      <td>55.0</td>\n",
       "      <td>326</td>\n",
       "      <td>3.95</td>\n",
       "      <td>3.98</td>\n",
       "      <td>2.43</td>\n",
       "    </tr>\n",
       "    <tr>\n",
       "      <th>1</th>\n",
       "      <td>2</td>\n",
       "      <td>0.21</td>\n",
       "      <td>Premium</td>\n",
       "      <td>E</td>\n",
       "      <td>SI1</td>\n",
       "      <td>59.8</td>\n",
       "      <td>61.0</td>\n",
       "      <td>326</td>\n",
       "      <td>3.89</td>\n",
       "      <td>3.84</td>\n",
       "      <td>2.31</td>\n",
       "    </tr>\n",
       "    <tr>\n",
       "      <th>2</th>\n",
       "      <td>3</td>\n",
       "      <td>0.23</td>\n",
       "      <td>Good</td>\n",
       "      <td>E</td>\n",
       "      <td>VS1</td>\n",
       "      <td>56.9</td>\n",
       "      <td>65.0</td>\n",
       "      <td>327</td>\n",
       "      <td>4.05</td>\n",
       "      <td>4.07</td>\n",
       "      <td>2.31</td>\n",
       "    </tr>\n",
       "    <tr>\n",
       "      <th>3</th>\n",
       "      <td>4</td>\n",
       "      <td>0.29</td>\n",
       "      <td>Premium</td>\n",
       "      <td>I</td>\n",
       "      <td>VS2</td>\n",
       "      <td>62.4</td>\n",
       "      <td>58.0</td>\n",
       "      <td>334</td>\n",
       "      <td>4.20</td>\n",
       "      <td>4.23</td>\n",
       "      <td>2.63</td>\n",
       "    </tr>\n",
       "    <tr>\n",
       "      <th>4</th>\n",
       "      <td>5</td>\n",
       "      <td>0.31</td>\n",
       "      <td>Good</td>\n",
       "      <td>J</td>\n",
       "      <td>SI2</td>\n",
       "      <td>63.3</td>\n",
       "      <td>58.0</td>\n",
       "      <td>335</td>\n",
       "      <td>4.34</td>\n",
       "      <td>4.35</td>\n",
       "      <td>2.75</td>\n",
       "    </tr>\n",
       "  </tbody>\n",
       "</table>\n",
       "</div>"
      ],
      "text/plain": [
       "   Unnamed: 0  carat      cut color clarity  depth  table  price     x     y  \\\n",
       "0           1   0.23    Ideal     E     SI2   61.5   55.0    326  3.95  3.98   \n",
       "1           2   0.21  Premium     E     SI1   59.8   61.0    326  3.89  3.84   \n",
       "2           3   0.23     Good     E     VS1   56.9   65.0    327  4.05  4.07   \n",
       "3           4   0.29  Premium     I     VS2   62.4   58.0    334  4.20  4.23   \n",
       "4           5   0.31     Good     J     SI2   63.3   58.0    335  4.34  4.35   \n",
       "\n",
       "      z  \n",
       "0  2.43  \n",
       "1  2.31  \n",
       "2  2.31  \n",
       "3  2.63  \n",
       "4  2.75  "
      ]
     },
     "execution_count": 4,
     "metadata": {},
     "output_type": "execute_result"
    }
   ],
   "source": [
    "raw_data = pd.read_csv(\"diamonds.csv\")\n",
    "raw_data.head()"
   ]
  },
  {
   "cell_type": "markdown",
   "metadata": {},
   "source": [
    "So the first column is an index, can be safely removed. Also, the price column will be the target here."
   ]
  },
  {
   "cell_type": "code",
   "execution_count": 5,
   "metadata": {},
   "outputs": [],
   "source": [
    "data_stripped = raw_data.drop(raw_data.columns[0], axis=1)\n",
    "data = data_stripped.drop(\"price\", axis=1)\n",
    "target = data_stripped[\"price\"]"
   ]
  },
  {
   "cell_type": "markdown",
   "metadata": {},
   "source": [
    "Time to split the sets, and shuffle them, since they seem to be ordered by the price which mi"
   ]
  },
  {
   "cell_type": "code",
   "execution_count": 6,
   "metadata": {},
   "outputs": [],
   "source": [
    "import sklearn.model_selection\n",
    "import sklearn.utils"
   ]
  },
  {
   "cell_type": "code",
   "execution_count": 7,
   "metadata": {},
   "outputs": [],
   "source": [
    "data, target = sklearn.utils.shuffle(data, target)"
   ]
  },
  {
   "cell_type": "code",
   "execution_count": 302,
   "metadata": {},
   "outputs": [],
   "source": [
    "X_train, X_test, y_train, y_test = sklearn.model_selection.train_test_split(data, target, test_size=0.3)"
   ]
  },
  {
   "cell_type": "markdown",
   "metadata": {},
   "source": [
    "Let's take a look at the data again."
   ]
  },
  {
   "cell_type": "code",
   "execution_count": 11,
   "metadata": {},
   "outputs": [
    {
     "data": {
      "text/html": [
       "<div>\n",
       "<style scoped>\n",
       "    .dataframe tbody tr th:only-of-type {\n",
       "        vertical-align: middle;\n",
       "    }\n",
       "\n",
       "    .dataframe tbody tr th {\n",
       "        vertical-align: top;\n",
       "    }\n",
       "\n",
       "    .dataframe thead th {\n",
       "        text-align: right;\n",
       "    }\n",
       "</style>\n",
       "<table border=\"1\" class=\"dataframe\">\n",
       "  <thead>\n",
       "    <tr style=\"text-align: right;\">\n",
       "      <th></th>\n",
       "      <th>carat</th>\n",
       "      <th>cut</th>\n",
       "      <th>color</th>\n",
       "      <th>clarity</th>\n",
       "      <th>depth</th>\n",
       "      <th>table</th>\n",
       "      <th>x</th>\n",
       "      <th>y</th>\n",
       "      <th>z</th>\n",
       "    </tr>\n",
       "  </thead>\n",
       "  <tbody>\n",
       "    <tr>\n",
       "      <th>15425</th>\n",
       "      <td>1.04</td>\n",
       "      <td>Ideal</td>\n",
       "      <td>G</td>\n",
       "      <td>VS2</td>\n",
       "      <td>62.6</td>\n",
       "      <td>55.0</td>\n",
       "      <td>6.45</td>\n",
       "      <td>6.49</td>\n",
       "      <td>4.05</td>\n",
       "    </tr>\n",
       "    <tr>\n",
       "      <th>53019</th>\n",
       "      <td>0.76</td>\n",
       "      <td>Very Good</td>\n",
       "      <td>H</td>\n",
       "      <td>VS2</td>\n",
       "      <td>58.7</td>\n",
       "      <td>61.0</td>\n",
       "      <td>5.96</td>\n",
       "      <td>5.99</td>\n",
       "      <td>3.51</td>\n",
       "    </tr>\n",
       "    <tr>\n",
       "      <th>38232</th>\n",
       "      <td>0.40</td>\n",
       "      <td>Ideal</td>\n",
       "      <td>H</td>\n",
       "      <td>VS1</td>\n",
       "      <td>62.7</td>\n",
       "      <td>59.0</td>\n",
       "      <td>4.74</td>\n",
       "      <td>4.70</td>\n",
       "      <td>2.96</td>\n",
       "    </tr>\n",
       "    <tr>\n",
       "      <th>46933</th>\n",
       "      <td>0.52</td>\n",
       "      <td>Ideal</td>\n",
       "      <td>E</td>\n",
       "      <td>VS2</td>\n",
       "      <td>61.1</td>\n",
       "      <td>55.0</td>\n",
       "      <td>5.27</td>\n",
       "      <td>5.20</td>\n",
       "      <td>3.20</td>\n",
       "    </tr>\n",
       "    <tr>\n",
       "      <th>42429</th>\n",
       "      <td>0.55</td>\n",
       "      <td>Ideal</td>\n",
       "      <td>F</td>\n",
       "      <td>SI2</td>\n",
       "      <td>61.1</td>\n",
       "      <td>56.0</td>\n",
       "      <td>5.25</td>\n",
       "      <td>5.33</td>\n",
       "      <td>3.24</td>\n",
       "    </tr>\n",
       "  </tbody>\n",
       "</table>\n",
       "</div>"
      ],
      "text/plain": [
       "       carat        cut color clarity  depth  table     x     y     z\n",
       "15425   1.04      Ideal     G     VS2   62.6   55.0  6.45  6.49  4.05\n",
       "53019   0.76  Very Good     H     VS2   58.7   61.0  5.96  5.99  3.51\n",
       "38232   0.40      Ideal     H     VS1   62.7   59.0  4.74  4.70  2.96\n",
       "46933   0.52      Ideal     E     VS2   61.1   55.0  5.27  5.20  3.20\n",
       "42429   0.55      Ideal     F     SI2   61.1   56.0  5.25  5.33  3.24"
      ]
     },
     "execution_count": 11,
     "metadata": {},
     "output_type": "execute_result"
    }
   ],
   "source": [
    "X_train.head()"
   ]
  },
  {
   "cell_type": "markdown",
   "metadata": {},
   "source": [
    "It might look like a lot of One-Hot encoding is required here - for the cut, color, and clarity classes.\n",
    "However, taking look at what they mean:\n",
    " - cut - \"Describe cut quality of the diamond. Quality in increasing order Fair, Good, Very Good, Premium, Ideal\"\n",
    " - color - \"Color of the diamond, with D being the best and J the worst\"\n",
    " - clarity - \"How obvious inclusions are within the diamond:(in order from best to worst, FL = flawless, I3= level 3 inclusions) ...\"\n",
    " \n",
    "It looks like each category can in fact be represented by a single number, beacuse the classes are ordered as well.  \n",
    "For the cut quality the result is obvious.   \n",
    "Color is a little more problematic, but a bit of online search yields the following result: as the description states - D is the best, J is the worst, and every letter in between ranks the diamond the same way as letters in the alphabet, so: D > E > F > G ...  \n",
    "As for the clarity - let's first see what we have."
   ]
  },
  {
   "cell_type": "code",
   "execution_count": 16,
   "metadata": {},
   "outputs": [
    {
     "data": {
      "text/plain": [
       "SI1     9216\n",
       "VS2     8546\n",
       "SI2     6472\n",
       "VS1     5686\n",
       "VVS2    3527\n",
       "VVS1    2562\n",
       "IF      1236\n",
       "I1       513\n",
       "Name: clarity, dtype: int64"
      ]
     },
     "execution_count": 16,
     "metadata": {},
     "output_type": "execute_result"
    }
   ],
   "source": [
    "X_train[\"clarity\"].value_counts()"
   ]
  },
  {
   "cell_type": "markdown",
   "metadata": {},
   "source": [
    "After a bit more search here is what those categories mean:  \n",
    "F is flawless - the best one.  \n",
    "IF is for internally flawless - very hard to view but still there.  \n",
    "VVS stands for very very flawless\n",
    "etc.  \n",
    "\n",
    "So the order of their quality is determined like this:  \n",
    "FL > IF > VVS1 > VVS2 > VS1 > VS2 > SI1 > SI2 > SI3 > I1 > I2 > I3  \n",
    "Because this order can be simply determined, I am not going to One-Hot encode this columns, as doing it is losing a part of information."
   ]
  },
  {
   "cell_type": "markdown",
   "metadata": {},
   "source": [
    "Now, let's see a histogram of the numerical values and how they relate to the price."
   ]
  },
  {
   "cell_type": "code",
   "execution_count": 17,
   "metadata": {},
   "outputs": [],
   "source": [
    "from pandas.plotting import scatter_matrix"
   ]
  },
  {
   "cell_type": "code",
   "execution_count": 23,
   "metadata": {},
   "outputs": [
    {
     "data": {
      "image/png": "[encoded data removed]",
      "text/plain": [
       "<Figure size 864x648 with 49 Axes>"
      ]
     },
     "metadata": {
      "needs_background": "light"
     },
     "output_type": "display_data"
    }
   ],
   "source": [
    "scatter_matrix(X_train.join(y_train)[[\"carat\", \"table\", \"x\", \"y\", \"z\", \"price\", \"depth\"]],\n",
    "              figsize=(12,9))\n",
    "pass"
   ]
  },
  {
   "cell_type": "markdown",
   "metadata": {},
   "source": [
    "As can be seen, price is related with the carats somehow, especially for low prices, and the dimensions in what seems to be an exponential relation.  \n",
    "Depth and table might somehow affect the price but the relationship is not apparent - what can be seen here is that the values tend to cluster around depth ~ 65 and table ~60. Because this values determine the shape of the diamond, but not it's size, it shoud be expected that they do not affect the price much."
   ]
  },
  {
   "cell_type": "markdown",
   "metadata": {},
   "source": [
    "Let's go on and create lists for the ordinal encoder to use.\n",
    "If it encodes it in an ascending or descending order doesn't matter, but the order must be maintained."
   ]
  },
  {
   "cell_type": "code",
   "execution_count": 106,
   "metadata": {},
   "outputs": [],
   "source": [
    "colorsList = [[chr(x) for x in range(ord(\"D\"), ord(\"Z\")+1)]]\n",
    "cutList = [[\"Fair\", \"Good\", \"Very Good\", \"Premium\", \"Ideal\"]]\n",
    "clarityList = [[\"FL\", \"IF\", \"VVS1\", \"VVS2\", \"VS1\",\n",
    "               \"VS2\", \"SI1\", \"SI2\", \"SI3\", \"I1\", \"I2\" \"I3\"]]"
   ]
  },
  {
   "cell_type": "markdown",
   "metadata": {},
   "source": [
    "Those columns will require an additional pipeline to be preprocessed."
   ]
  },
  {
   "cell_type": "code",
   "execution_count": 107,
   "metadata": {},
   "outputs": [],
   "source": [
    "from sklearn.pipeline import Pipeline\n",
    "from sklearn.preprocessing import OrdinalEncoder\n",
    "from sklearn.compose import ColumnTransformer"
   ]
  },
  {
   "cell_type": "code",
   "execution_count": 108,
   "metadata": {},
   "outputs": [],
   "source": [
    "colorsEncoder = OrdinalEncoder(categories = colorsList)\n",
    "cutEncoder = OrdinalEncoder(categories = cutList)\n",
    "clarityEncoder = OrdinalEncoder(categories = clarityList)"
   ]
  },
  {
   "cell_type": "markdown",
   "metadata": {},
   "source": [
    "Since we have all possible diamond categories in those lists, I want an error if an unknown value is found.\n",
    "If a value for a diamond is not specified, I will assume it is a \"median\" quality diamond."
   ]
  },
  {
   "cell_type": "code",
   "execution_count": 109,
   "metadata": {},
   "outputs": [],
   "source": [
    "from sklearn.impute import SimpleImputer\n",
    "catImputer = SimpleImputer(strategy=\"median\")\n",
    "\n",
    "catEncoders = ColumnTransformer([\n",
    "    (\"colors\", colorsEncoder, [\"color\"]),\n",
    "    (\"cuts\", cutEncoder, [\"cut\"]),\n",
    "    (\"clarity\", clarityEncoder, [\"clarity\"])\n",
    "])\n",
    "\n",
    "catPipeline = Pipeline([\n",
    "    (\"encode\", catEncoders),\n",
    "    (\"impute\", catImputer)\n",
    "])"
   ]
  },
  {
   "cell_type": "markdown",
   "metadata": {},
   "source": [
    "For numerical values I want to explore some histograms first."
   ]
  },
  {
   "cell_type": "code",
   "execution_count": 110,
   "metadata": {},
   "outputs": [
    {
     "data": {
      "text/plain": [
       "<AxesSubplot:>"
      ]
     },
     "execution_count": 110,
     "metadata": {},
     "output_type": "execute_result"
    },
    {
     "data": {
      "image/png": "[encoded data removed]",
      "text/plain": [
       "<Figure size 432x288 with 1 Axes>"
      ]
     },
     "metadata": {
      "needs_background": "light"
     },
     "output_type": "display_data"
    }
   ],
   "source": [
    "X_train[\"carat\"].hist()"
   ]
  },
  {
   "cell_type": "markdown",
   "metadata": {},
   "source": [
    "This could be normalized with some logarithm."
   ]
  },
  {
   "cell_type": "code",
   "execution_count": 111,
   "metadata": {},
   "outputs": [
    {
     "data": {
      "text/plain": [
       "<AxesSubplot:>"
      ]
     },
     "execution_count": 111,
     "metadata": {},
     "output_type": "execute_result"
    },
    {
     "data": {
      "image/png": "[encoded data removed]",
      "text/plain": [
       "<Figure size 432x288 with 1 Axes>"
      ]
     },
     "metadata": {
      "needs_background": "light"
     },
     "output_type": "display_data"
    }
   ],
   "source": [
    "np.log(X_train[\"carat\"]).hist()"
   ]
  },
  {
   "cell_type": "markdown",
   "metadata": {},
   "source": [
    "Looks a bit more \"normal\"."
   ]
  },
  {
   "cell_type": "markdown",
   "metadata": {},
   "source": [
    "The remaining values look kind-of normalized. I won't be normalizing x, y, and z with log, because the tails are mostly outliers."
   ]
  },
  {
   "cell_type": "code",
   "execution_count": 116,
   "metadata": {},
   "outputs": [],
   "source": [
    "from sklearn.preprocessing import FunctionTransformer\n",
    "\n",
    "numTransformer = ColumnTransformer([\n",
    "    (\"logcarat\", FunctionTransformer(np.log), [\"carat\"])\n",
    "], remainder=\"passthrough\")"
   ]
  },
  {
   "cell_type": "code",
   "execution_count": 129,
   "metadata": {},
   "outputs": [],
   "source": [
    "from sklearn.preprocessing import StandardScaler\n",
    "\n",
    "numPipeline = Pipeline([\n",
    "    (\"transform\", numTransformer),\n",
    "    (\"impute\", SimpleImputer(strategy=\"median\")),\n",
    "    (\"scale\", StandardScaler())\n",
    "])"
   ]
  },
  {
   "cell_type": "code",
   "execution_count": 132,
   "metadata": {},
   "outputs": [],
   "source": [
    "columns = X_train.columns\n",
    "numColumns = columns.drop([\"clarity\", \"color\", \"cut\"])\n",
    "catColumns = columns.drop(numColumns)\n",
    "\n",
    "fullPipeline = ColumnTransformer([\n",
    "    (\"catPipeline\", catPipeline, catColumns),\n",
    "    (\"numPipeline\", numPipeline, numColumns)\n",
    "])"
   ]
  },
  {
   "cell_type": "markdown",
   "metadata": {},
   "source": [
    "Let's try running the pipeline now."
   ]
  },
  {
   "cell_type": "code",
   "execution_count": 134,
   "metadata": {},
   "outputs": [],
   "source": [
    "X_train_transformed = fullPipeline.fit_transform(X_train)"
   ]
  },
  {
   "cell_type": "markdown",
   "metadata": {},
   "source": [
    "Looks promising."
   ]
  },
  {
   "cell_type": "markdown",
   "metadata": {},
   "source": [
    "Since some exponential dependencies can be seen in the data I will skip training a LinearRegression model for a while. First, I'll try a SVM with a gaussian kernel, since the number of attributes is not high."
   ]
  },
  {
   "cell_type": "code",
   "execution_count": 226,
   "metadata": {},
   "outputs": [],
   "source": [
    "from sklearn.svm import LinearSVR\n",
    "from sklearn.model_selection import GridSearchCV"
   ]
  },
  {
   "cell_type": "code",
   "execution_count": 259,
   "metadata": {},
   "outputs": [],
   "source": [
    "svr = LinearSVR()\n",
    "svr_params = {\n",
    "    \"C\" : np.logspace(-8, 8, 5),\n",
    "    \"epsilon\" : np.logspace(-30, 1, 5),\n",
    "    \"max_iter\" : [15000]\n",
    "}\n",
    "\n",
    "search = GridSearchCV(svr, param_grid=svr_params, scoring=\"neg_mean_squared_error\",\n",
    "                     cv=3, n_jobs=8, verbose=2)"
   ]
  },
  {
   "cell_type": "code",
   "execution_count": 260,
   "metadata": {},
   "outputs": [
    {
     "name": "stdout",
     "output_type": "stream",
     "text": [
      "Fitting 3 folds for each of 25 candidates, totalling 75 fits\n"
     ]
    },
    {
     "data": {
      "text/plain": [
       "GridSearchCV(cv=3, estimator=LinearSVR(), n_jobs=8,\n",
       "             param_grid={'C': array([1.e-08, 1.e-04, 1.e+00, 1.e+04, 1.e+08]),\n",
       "                         'epsilon': array([1.00000000e-30, 5.62341325e-23, 3.16227766e-15, 1.77827941e-07,\n",
       "       1.00000000e+01]),\n",
       "                         'max_iter': [15000]},\n",
       "             scoring='neg_mean_squared_error', verbose=2)"
      ]
     },
     "execution_count": 260,
     "metadata": {},
     "output_type": "execute_result"
    }
   ],
   "source": [
    "search.fit(X_train_transformed, y_train)"
   ]
  },
  {
   "cell_type": "code",
   "execution_count": 261,
   "metadata": {},
   "outputs": [
    {
     "data": {
      "text/plain": [
       "2155.9941472601536"
      ]
     },
     "execution_count": 261,
     "metadata": {},
     "output_type": "execute_result"
    }
   ],
   "source": [
    "np.sqrt(-search.best_score_)"
   ]
  },
  {
   "cell_type": "code",
   "execution_count": 262,
   "metadata": {},
   "outputs": [
    {
     "data": {
      "text/plain": [
       "LinearSVR(epsilon=1e-30, max_iter=15000)"
      ]
     },
     "execution_count": 262,
     "metadata": {},
     "output_type": "execute_result"
    }
   ],
   "source": [
    "search.best_estimator_"
   ]
  },
  {
   "cell_type": "code",
   "execution_count": 161,
   "metadata": {},
   "outputs": [],
   "source": [
    "from sklearn.ensemble import RandomForestRegressor"
   ]
  },
  {
   "cell_type": "code",
   "execution_count": 166,
   "metadata": {},
   "outputs": [],
   "source": [
    "rfr = RandomForestRegressor()\n",
    "frf_params = {\n",
    "    \"n_estimators\" : np.linspace(10, 100, 10, dtype=int),\n",
    "    \"min_samples_split\" : [2, 4, 6, 10],\n",
    "    \"max_depth\" : np.linspace(30, 100, 10, dtype=int)\n",
    "}\n",
    "\n",
    "search = GridSearchCV(rfr, param_grid=frf_params, scoring=\"neg_mean_squared_error\",\n",
    "                     cv=3, n_jobs=8, verbose=2)"
   ]
  },
  {
   "cell_type": "code",
   "execution_count": 167,
   "metadata": {},
   "outputs": [
    {
     "name": "stdout",
     "output_type": "stream",
     "text": [
      "Fitting 3 folds for each of 400 candidates, totalling 1200 fits\n"
     ]
    },
    {
     "data": {
      "text/plain": [
       "GridSearchCV(cv=3, estimator=RandomForestRegressor(), n_jobs=8,\n",
       "             param_grid={'max_depth': array([ 30,  37,  45,  53,  61,  68,  76,  84,  92, 100]),\n",
       "                         'min_samples_split': [2, 4, 6, 10],\n",
       "                         'n_estimators': array([ 10,  20,  30,  40,  50,  60,  70,  80,  90, 100])},\n",
       "             scoring='neg_mean_squared_error', verbose=2)"
      ]
     },
     "execution_count": 167,
     "metadata": {},
     "output_type": "execute_result"
    }
   ],
   "source": [
    "search.fit(X_train_transformed, y_train)"
   ]
  },
  {
   "cell_type": "code",
   "execution_count": 168,
   "metadata": {},
   "outputs": [
    {
     "data": {
      "text/plain": [
       "556.3843308997098"
      ]
     },
     "execution_count": 168,
     "metadata": {},
     "output_type": "execute_result"
    }
   ],
   "source": [
    "np.sqrt(-search.best_score_)"
   ]
  },
  {
   "cell_type": "code",
   "execution_count": 169,
   "metadata": {},
   "outputs": [
    {
     "data": {
      "text/plain": [
       "RandomForestRegressor(max_depth=76, min_samples_split=6, n_estimators=90)"
      ]
     },
     "execution_count": 169,
     "metadata": {},
     "output_type": "execute_result"
    }
   ],
   "source": [
    "search.best_estimator_"
   ]
  },
  {
   "cell_type": "markdown",
   "metadata": {},
   "source": [
    "The random forest regressor looks promising. Just to be sure, I will try linear regression as well. For faster search, I'm going to create a transformer with number of features as a parameter."
   ]
  },
  {
   "cell_type": "code",
   "execution_count": 252,
   "metadata": {},
   "outputs": [],
   "source": [
    "from sklearn.preprocessing import PolynomialFeatures\n",
    "from sklearn.base import TransformerMixin, BaseEstimator\n",
    "from sklearn.linear_model import Ridge\n",
    "\n",
    "class PolyRidge(Ridge, BaseEstimator, TransformerMixin):\n",
    "    def __init__(self, polyE = 2, alpha=1.0, *, fit_intercept=True,\n",
    "                 normalize=False, copy_X=True, max_iter=None,\n",
    "                 tol=0.001, solver='auto', random_state=None):\n",
    "        self.polyE = polyE\n",
    "        super().__init__(alpha=alpha, fit_intercept=fit_intercept, normalize=normalize,\n",
    "                         copy_X=copy_X, max_iter=max_iter, tol=tol, solver=solver, random_state=random_state)\n",
    "        \n",
    "        \n",
    "    def fit(self, X, y):\n",
    "        self.polyTransformer = PolynomialFeatures(degree = self.polyE)\n",
    "        polyX = self.polyTransformer.fit_transform(X)\n",
    "        return super().fit(polyX, y)\n",
    "    \n",
    "    def predict(self, X):\n",
    "        polyX = self.polyTransformer.transform(X)\n",
    "        return super().predict(polyX)        "
   ]
  },
  {
   "cell_type": "code",
   "execution_count": 255,
   "metadata": {},
   "outputs": [],
   "source": [
    "\n",
    "linreg_params = {\n",
    "    \"alpha\" : np.logspace(-12, 12, 30),\n",
    "    \"polyE\" : [1, 2, 3]\n",
    "}\n",
    "\n",
    "linreg = PolyRidge(normalize=True)\n",
    "search = GridSearchCV(linreg, linreg_params, verbose = 2,\n",
    "                     n_jobs=8, scoring=\"neg_mean_squared_error\", cv = 3)"
   ]
  },
  {
   "cell_type": "code",
   "execution_count": 256,
   "metadata": {
    "scrolled": false
   },
   "outputs": [
    {
     "name": "stdout",
     "output_type": "stream",
     "text": [
      "Fitting 3 folds for each of 90 candidates, totalling 270 fits\n"
     ]
    },
    {
     "data": {
      "text/plain": [
       "GridSearchCV(cv=3, estimator=PolyRidge(normalize=True), n_jobs=8,\n",
       "             param_grid={'alpha': array([1.00000000e-12, 6.72335754e-12, 4.52035366e-11, 3.03919538e-10,\n",
       "       2.04335972e-09, 1.37382380e-08, 9.23670857e-08, 6.21016942e-07,\n",
       "       4.17531894e-06, 2.80721620e-05, 1.88739182e-04, 1.26896100e-03,\n",
       "       8.53167852e-03, 5.73615251e-02, 3.85662042e-01, 2.59294380e+00,\n",
       "       1.74332882e+01, 1.17210230e+02, 7.88046282e+02, 5.29831691e+03,\n",
       "       3.56224789e+04, 2.39502662e+05, 1.61026203e+06, 1.08263673e+07,\n",
       "       7.27895384e+07, 4.89390092e+08, 3.29034456e+09, 2.21221629e+10,\n",
       "       1.48735211e+11, 1.00000000e+12]),\n",
       "                         'polyE': [1, 2, 3]},\n",
       "             scoring='neg_mean_squared_error', verbose=2)"
      ]
     },
     "execution_count": 256,
     "metadata": {},
     "output_type": "execute_result"
    }
   ],
   "source": [
    "search.fit(X_train_transformed, y_train)"
   ]
  },
  {
   "cell_type": "code",
   "execution_count": 257,
   "metadata": {},
   "outputs": [
    {
     "data": {
      "text/plain": [
       "1708.3027886066036"
      ]
     },
     "execution_count": 257,
     "metadata": {},
     "output_type": "execute_result"
    }
   ],
   "source": [
    "np.sqrt(-search.best_score_)"
   ]
  },
  {
   "cell_type": "code",
   "execution_count": 258,
   "metadata": {},
   "outputs": [
    {
     "data": {
      "text/plain": [
       "PolyRidge(alpha=0.05736152510448681, normalize=True, polyE=1)"
      ]
     },
     "execution_count": 258,
     "metadata": {},
     "output_type": "execute_result"
    }
   ],
   "source": [
    "search.best_estimator_"
   ]
  },
  {
   "cell_type": "markdown",
   "metadata": {},
   "source": [
    "Doesn't look like polynomial features help at all. Let's go back to the random forest regressor."
   ]
  },
  {
   "cell_type": "code",
   "execution_count": 265,
   "metadata": {},
   "outputs": [],
   "source": [
    "rfr = RandomForestRegressor()\n",
    "frf_params = {\n",
    "    \"n_estimators\" : np.linspace(80, 120, 20, dtype=int),\n",
    "    \"min_samples_split\" : [4, 5, 6, 7, 8, 9],\n",
    "    \"max_depth\" : np.linspace(50, 100, 10, dtype=int)\n",
    "}\n",
    "\n",
    "search = GridSearchCV(rfr, param_grid=frf_params, scoring=\"neg_mean_squared_error\",\n",
    "                     cv=3, n_jobs=8, verbose=2)"
   ]
  },
  {
   "cell_type": "code",
   "execution_count": 266,
   "metadata": {},
   "outputs": [
    {
     "name": "stdout",
     "output_type": "stream",
     "text": [
      "Fitting 3 folds for each of 1200 candidates, totalling 3600 fits\n"
     ]
    },
    {
     "data": {
      "text/plain": [
       "GridSearchCV(cv=3, estimator=RandomForestRegressor(), n_jobs=8,\n",
       "             param_grid={'max_depth': array([ 50,  55,  61,  66,  72,  77,  83,  88,  94, 100]),\n",
       "                         'min_samples_split': [4, 5, 6, 7, 8, 9],\n",
       "                         'n_estimators': array([ 80,  82,  84,  86,  88,  90,  92,  94,  96,  98, 101, 103, 105,\n",
       "       107, 109, 111, 113, 115, 117, 120])},\n",
       "             scoring='neg_mean_squared_error', verbose=2)"
      ]
     },
     "execution_count": 266,
     "metadata": {},
     "output_type": "execute_result"
    }
   ],
   "source": [
    "search.fit(X_train_transformed, y_train)"
   ]
  },
  {
   "cell_type": "code",
   "execution_count": 267,
   "metadata": {},
   "outputs": [
    {
     "data": {
      "text/plain": [
       "554.9631375695212"
      ]
     },
     "execution_count": 267,
     "metadata": {},
     "output_type": "execute_result"
    }
   ],
   "source": [
    "np.sqrt(-search.best_score_)"
   ]
  },
  {
   "cell_type": "code",
   "execution_count": 268,
   "metadata": {},
   "outputs": [
    {
     "data": {
      "text/plain": [
       "RandomForestRegressor(max_depth=66, min_samples_split=7, n_estimators=113)"
      ]
     },
     "execution_count": 268,
     "metadata": {},
     "output_type": "execute_result"
    }
   ],
   "source": [
    "search.best_estimator_"
   ]
  },
  {
   "cell_type": "code",
   "execution_count": 269,
   "metadata": {},
   "outputs": [],
   "source": [
    "rfr = RandomForestRegressor()\n",
    "frf_params = {\n",
    "    \"n_estimators\" : np.linspace(100, 120, 20, dtype=int),\n",
    "    \"min_samples_split\" : [6, 7, 8],\n",
    "    \"max_depth\" : np.linspace(60, 70, 10, dtype=int)\n",
    "}\n",
    "\n",
    "search = GridSearchCV(rfr, param_grid=frf_params, scoring=\"neg_mean_squared_error\",\n",
    "                     cv=3, n_jobs=8, verbose=2)"
   ]
  },
  {
   "cell_type": "code",
   "execution_count": 270,
   "metadata": {},
   "outputs": [
    {
     "name": "stdout",
     "output_type": "stream",
     "text": [
      "Fitting 3 folds for each of 600 candidates, totalling 1800 fits\n"
     ]
    },
    {
     "data": {
      "text/plain": [
       "GridSearchCV(cv=3, estimator=RandomForestRegressor(), n_jobs=8,\n",
       "             param_grid={'max_depth': array([60, 61, 62, 63, 64, 65, 66, 67, 68, 70]),\n",
       "                         'min_samples_split': [6, 7, 8],\n",
       "                         'n_estimators': array([100, 101, 102, 103, 104, 105, 106, 107, 108, 109, 110, 111, 112,\n",
       "       113, 114, 115, 116, 117, 118, 120])},\n",
       "             scoring='neg_mean_squared_error', verbose=2)"
      ]
     },
     "execution_count": 270,
     "metadata": {},
     "output_type": "execute_result"
    }
   ],
   "source": [
    "search.fit(X_train_transformed, y_train)"
   ]
  },
  {
   "cell_type": "code",
   "execution_count": 271,
   "metadata": {},
   "outputs": [
    {
     "data": {
      "text/plain": [
       "554.8177822888259"
      ]
     },
     "execution_count": 271,
     "metadata": {},
     "output_type": "execute_result"
    }
   ],
   "source": [
    "np.sqrt(-search.best_score_)"
   ]
  },
  {
   "cell_type": "code",
   "execution_count": 272,
   "metadata": {},
   "outputs": [
    {
     "data": {
      "text/plain": [
       "RandomForestRegressor(max_depth=60, min_samples_split=8, n_estimators=109)"
      ]
     },
     "execution_count": 272,
     "metadata": {},
     "output_type": "execute_result"
    }
   ],
   "source": [
    "search.best_estimator_"
   ]
  },
  {
   "cell_type": "markdown",
   "metadata": {},
   "source": [
    "Let's try training it on the whole dataset."
   ]
  },
  {
   "cell_type": "code",
   "execution_count": 273,
   "metadata": {},
   "outputs": [],
   "source": [
    "rfr_estimator = search.best_estimator_"
   ]
  },
  {
   "cell_type": "code",
   "execution_count": 274,
   "metadata": {},
   "outputs": [
    {
     "data": {
      "text/plain": [
       "RandomForestRegressor(max_depth=60, min_samples_split=8, n_estimators=109)"
      ]
     },
     "execution_count": 274,
     "metadata": {},
     "output_type": "execute_result"
    }
   ],
   "source": [
    "rfr_estimator.fit(X_train_transformed, y_train)"
   ]
  },
  {
   "cell_type": "code",
   "execution_count": 331,
   "metadata": {},
   "outputs": [],
   "source": [
    "X_test_transformed = fullPipeline.transform(X_test)"
   ]
  },
  {
   "cell_type": "code",
   "execution_count": 332,
   "metadata": {},
   "outputs": [],
   "source": [
    "prediction = rfr_estimator.predict(X_test_transformed)"
   ]
  },
  {
   "cell_type": "code",
   "execution_count": 333,
   "metadata": {},
   "outputs": [
    {
     "data": {
      "text/plain": [
       "395.32728944739165"
      ]
     },
     "execution_count": 333,
     "metadata": {},
     "output_type": "execute_result"
    }
   ],
   "source": [
    "np.sqrt(np.sum(np.square(y_test - prediction))/len(y_test))"
   ]
  },
  {
   "cell_type": "markdown",
   "metadata": {},
   "source": [
    "Not much improvement on the whole data set."
   ]
  },
  {
   "cell_type": "code",
   "execution_count": 283,
   "metadata": {},
   "outputs": [
    {
     "data": {
      "text/plain": [
       "<AxesSubplot:>"
      ]
     },
     "execution_count": 283,
     "metadata": {},
     "output_type": "execute_result"
    },
    {
     "data": {
      "image/png": "[encoded data removed]",
      "text/plain": [
       "<Figure size 432x288 with 1 Axes>"
      ]
     },
     "metadata": {
      "needs_background": "light"
     },
     "output_type": "display_data"
    }
   ],
   "source": [
    "y_train.hist()"
   ]
  },
  {
   "cell_type": "markdown",
   "metadata": {},
   "source": [
    "This might be a reason for the really big error. The prices are only sometimes really high, so for them the estimator might be less acurate."
   ]
  },
  {
   "cell_type": "markdown",
   "metadata": {},
   "source": [
    "Let's calculate the result for all entires, where target costs no more than 7k."
   ]
  },
  {
   "cell_type": "code",
   "execution_count": 342,
   "metadata": {},
   "outputs": [],
   "source": [
    "y_test = y_test.reset_index(drop=True)\n",
    "\n",
    "test_lower_indices = y_test.index[y_test < 7000]\n",
    "X_test_stripped = X_test_transformed[test_lower_indices,:]\n",
    "y_test_stripped = y_test[test_lower_indices]"
   ]
  },
  {
   "cell_type": "code",
   "execution_count": 343,
   "metadata": {},
   "outputs": [],
   "source": [
    "prediction = rfr_estimator.predict(X_test_stripped)"
   ]
  },
  {
   "cell_type": "code",
   "execution_count": 344,
   "metadata": {},
   "outputs": [
    {
     "data": {
      "text/plain": [
       "205.5787230549843"
      ]
     },
     "execution_count": 344,
     "metadata": {},
     "output_type": "execute_result"
    }
   ],
   "source": [
    "np.sqrt(np.sum(np.square(y_test_stripped - prediction))/len(y_test_stripped))"
   ]
  },
  {
   "cell_type": "markdown",
   "metadata": {},
   "source": [
    "It looks like the error depends mostly on the price of the diamond itself, which is not a huge problem at all. Let's see how it handles larger prices."
   ]
  },
  {
   "cell_type": "code",
   "execution_count": 354,
   "metadata": {},
   "outputs": [],
   "source": [
    "y_test = y_test.reset_index(drop=True)\n",
    "\n",
    "test_lower_indices = y_test.index[y_test < 14000]\n",
    "X_test_stripped = X_test_transformed[test_lower_indices,:]\n",
    "y_test_stripped = y_test[test_lower_indices]"
   ]
  },
  {
   "cell_type": "code",
   "execution_count": 355,
   "metadata": {},
   "outputs": [],
   "source": [
    "prediction = rfr_estimator.predict(X_test_stripped)"
   ]
  },
  {
   "cell_type": "code",
   "execution_count": 356,
   "metadata": {},
   "outputs": [
    {
     "data": {
      "text/plain": [
       "348.6796525101745"
      ]
     },
     "execution_count": 356,
     "metadata": {},
     "output_type": "execute_result"
    }
   ],
   "source": [
    "np.sqrt(np.sum(np.square(y_test_stripped - prediction))/len(y_test_stripped))"
   ]
  },
  {
   "cell_type": "markdown",
   "metadata": {},
   "source": [
    "Error is bigger as expected."
   ]
  },
  {
   "cell_type": "markdown",
   "metadata": {},
   "source": [
    "Now instead of calculating the mean squared error, I will calculate absolute relative error for a little more insight about the regressor."
   ]
  },
  {
   "cell_type": "code",
   "execution_count": 357,
   "metadata": {},
   "outputs": [],
   "source": [
    "prediction = rfr_estimator.predict(X_test_transformed)"
   ]
  },
  {
   "cell_type": "code",
   "execution_count": 361,
   "metadata": {},
   "outputs": [
    {
     "data": {
      "text/plain": [
       "0.04497363864923825"
      ]
     },
     "execution_count": 361,
     "metadata": {},
     "output_type": "execute_result"
    }
   ],
   "source": [
    "np.mean(np.abs(prediction-y_test)/y_test)"
   ]
  },
  {
   "cell_type": "markdown",
   "metadata": {},
   "source": [
    "On average, the regressor makes a 4.5% error during prediction. Even though the MSE is relatively high, the relative error is acceptable, since there are some big-target entries in the dataset."
   ]
  },
  {
   "cell_type": "code",
   "execution_count": null,
   "metadata": {},
   "outputs": [],
   "source": []
  }
 ],
 "metadata": {
  "kernelspec": {
   "display_name": "Python 3",
   "language": "python",
   "name": "python3"
  },
  "language_info": {
   "codemirror_mode": {
    "name": "ipython",
    "version": 3
   },
   "file_extension": ".py",
   "mimetype": "text/x-python",
   "name": "python",
   "nbconvert_exporter": "python",
   "pygments_lexer": "ipython3",
   "version": "3.8.9"
  }
 },
 "nbformat": 4,
 "nbformat_minor": 4
}
