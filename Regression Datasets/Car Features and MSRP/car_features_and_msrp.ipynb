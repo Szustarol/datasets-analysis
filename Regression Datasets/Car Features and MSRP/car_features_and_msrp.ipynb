{
 "cells": [
  {
   "cell_type": "code",
   "execution_count": 1,
   "metadata": {},
   "outputs": [],
   "source": [
    "import pandas as pd\n",
    "import numpy as np"
   ]
  },
  {
   "cell_type": "markdown",
   "metadata": {},
   "source": [
    "Loading the data"
   ]
  },
  {
   "cell_type": "code",
   "execution_count": 2,
   "metadata": {},
   "outputs": [
    {
     "data": {
      "text/html": [
       "<div>\n",
       "<style scoped>\n",
       "    .dataframe tbody tr th:only-of-type {\n",
       "        vertical-align: middle;\n",
       "    }\n",
       "\n",
       "    .dataframe tbody tr th {\n",
       "        vertical-align: top;\n",
       "    }\n",
       "\n",
       "    .dataframe thead th {\n",
       "        text-align: right;\n",
       "    }\n",
       "</style>\n",
       "<table border=\"1\" class=\"dataframe\">\n",
       "  <thead>\n",
       "    <tr style=\"text-align: right;\">\n",
       "      <th></th>\n",
       "      <th>Make</th>\n",
       "      <th>Model</th>\n",
       "      <th>Year</th>\n",
       "      <th>Engine Fuel Type</th>\n",
       "      <th>Engine HP</th>\n",
       "      <th>Engine Cylinders</th>\n",
       "      <th>Transmission Type</th>\n",
       "      <th>Driven_Wheels</th>\n",
       "      <th>Number of Doors</th>\n",
       "      <th>Market Category</th>\n",
       "      <th>Vehicle Size</th>\n",
       "      <th>Vehicle Style</th>\n",
       "      <th>highway MPG</th>\n",
       "      <th>city mpg</th>\n",
       "      <th>Popularity</th>\n",
       "      <th>MSRP</th>\n",
       "    </tr>\n",
       "  </thead>\n",
       "  <tbody>\n",
       "    <tr>\n",
       "      <th>0</th>\n",
       "      <td>BMW</td>\n",
       "      <td>1 Series M</td>\n",
       "      <td>2011</td>\n",
       "      <td>premium unleaded (required)</td>\n",
       "      <td>335.0</td>\n",
       "      <td>6.0</td>\n",
       "      <td>MANUAL</td>\n",
       "      <td>rear wheel drive</td>\n",
       "      <td>2.0</td>\n",
       "      <td>Factory Tuner,Luxury,High-Performance</td>\n",
       "      <td>Compact</td>\n",
       "      <td>Coupe</td>\n",
       "      <td>26</td>\n",
       "      <td>19</td>\n",
       "      <td>3916</td>\n",
       "      <td>46135</td>\n",
       "    </tr>\n",
       "    <tr>\n",
       "      <th>1</th>\n",
       "      <td>BMW</td>\n",
       "      <td>1 Series</td>\n",
       "      <td>2011</td>\n",
       "      <td>premium unleaded (required)</td>\n",
       "      <td>300.0</td>\n",
       "      <td>6.0</td>\n",
       "      <td>MANUAL</td>\n",
       "      <td>rear wheel drive</td>\n",
       "      <td>2.0</td>\n",
       "      <td>Luxury,Performance</td>\n",
       "      <td>Compact</td>\n",
       "      <td>Convertible</td>\n",
       "      <td>28</td>\n",
       "      <td>19</td>\n",
       "      <td>3916</td>\n",
       "      <td>40650</td>\n",
       "    </tr>\n",
       "    <tr>\n",
       "      <th>2</th>\n",
       "      <td>BMW</td>\n",
       "      <td>1 Series</td>\n",
       "      <td>2011</td>\n",
       "      <td>premium unleaded (required)</td>\n",
       "      <td>300.0</td>\n",
       "      <td>6.0</td>\n",
       "      <td>MANUAL</td>\n",
       "      <td>rear wheel drive</td>\n",
       "      <td>2.0</td>\n",
       "      <td>Luxury,High-Performance</td>\n",
       "      <td>Compact</td>\n",
       "      <td>Coupe</td>\n",
       "      <td>28</td>\n",
       "      <td>20</td>\n",
       "      <td>3916</td>\n",
       "      <td>36350</td>\n",
       "    </tr>\n",
       "    <tr>\n",
       "      <th>3</th>\n",
       "      <td>BMW</td>\n",
       "      <td>1 Series</td>\n",
       "      <td>2011</td>\n",
       "      <td>premium unleaded (required)</td>\n",
       "      <td>230.0</td>\n",
       "      <td>6.0</td>\n",
       "      <td>MANUAL</td>\n",
       "      <td>rear wheel drive</td>\n",
       "      <td>2.0</td>\n",
       "      <td>Luxury,Performance</td>\n",
       "      <td>Compact</td>\n",
       "      <td>Coupe</td>\n",
       "      <td>28</td>\n",
       "      <td>18</td>\n",
       "      <td>3916</td>\n",
       "      <td>29450</td>\n",
       "    </tr>\n",
       "    <tr>\n",
       "      <th>4</th>\n",
       "      <td>BMW</td>\n",
       "      <td>1 Series</td>\n",
       "      <td>2011</td>\n",
       "      <td>premium unleaded (required)</td>\n",
       "      <td>230.0</td>\n",
       "      <td>6.0</td>\n",
       "      <td>MANUAL</td>\n",
       "      <td>rear wheel drive</td>\n",
       "      <td>2.0</td>\n",
       "      <td>Luxury</td>\n",
       "      <td>Compact</td>\n",
       "      <td>Convertible</td>\n",
       "      <td>28</td>\n",
       "      <td>18</td>\n",
       "      <td>3916</td>\n",
       "      <td>34500</td>\n",
       "    </tr>\n",
       "    <tr>\n",
       "      <th>5</th>\n",
       "      <td>BMW</td>\n",
       "      <td>1 Series</td>\n",
       "      <td>2012</td>\n",
       "      <td>premium unleaded (required)</td>\n",
       "      <td>230.0</td>\n",
       "      <td>6.0</td>\n",
       "      <td>MANUAL</td>\n",
       "      <td>rear wheel drive</td>\n",
       "      <td>2.0</td>\n",
       "      <td>Luxury,Performance</td>\n",
       "      <td>Compact</td>\n",
       "      <td>Coupe</td>\n",
       "      <td>28</td>\n",
       "      <td>18</td>\n",
       "      <td>3916</td>\n",
       "      <td>31200</td>\n",
       "    </tr>\n",
       "    <tr>\n",
       "      <th>6</th>\n",
       "      <td>BMW</td>\n",
       "      <td>1 Series</td>\n",
       "      <td>2012</td>\n",
       "      <td>premium unleaded (required)</td>\n",
       "      <td>300.0</td>\n",
       "      <td>6.0</td>\n",
       "      <td>MANUAL</td>\n",
       "      <td>rear wheel drive</td>\n",
       "      <td>2.0</td>\n",
       "      <td>Luxury,Performance</td>\n",
       "      <td>Compact</td>\n",
       "      <td>Convertible</td>\n",
       "      <td>26</td>\n",
       "      <td>17</td>\n",
       "      <td>3916</td>\n",
       "      <td>44100</td>\n",
       "    </tr>\n",
       "    <tr>\n",
       "      <th>7</th>\n",
       "      <td>BMW</td>\n",
       "      <td>1 Series</td>\n",
       "      <td>2012</td>\n",
       "      <td>premium unleaded (required)</td>\n",
       "      <td>300.0</td>\n",
       "      <td>6.0</td>\n",
       "      <td>MANUAL</td>\n",
       "      <td>rear wheel drive</td>\n",
       "      <td>2.0</td>\n",
       "      <td>Luxury,High-Performance</td>\n",
       "      <td>Compact</td>\n",
       "      <td>Coupe</td>\n",
       "      <td>28</td>\n",
       "      <td>20</td>\n",
       "      <td>3916</td>\n",
       "      <td>39300</td>\n",
       "    </tr>\n",
       "    <tr>\n",
       "      <th>8</th>\n",
       "      <td>BMW</td>\n",
       "      <td>1 Series</td>\n",
       "      <td>2012</td>\n",
       "      <td>premium unleaded (required)</td>\n",
       "      <td>230.0</td>\n",
       "      <td>6.0</td>\n",
       "      <td>MANUAL</td>\n",
       "      <td>rear wheel drive</td>\n",
       "      <td>2.0</td>\n",
       "      <td>Luxury</td>\n",
       "      <td>Compact</td>\n",
       "      <td>Convertible</td>\n",
       "      <td>28</td>\n",
       "      <td>18</td>\n",
       "      <td>3916</td>\n",
       "      <td>36900</td>\n",
       "    </tr>\n",
       "    <tr>\n",
       "      <th>9</th>\n",
       "      <td>BMW</td>\n",
       "      <td>1 Series</td>\n",
       "      <td>2013</td>\n",
       "      <td>premium unleaded (required)</td>\n",
       "      <td>230.0</td>\n",
       "      <td>6.0</td>\n",
       "      <td>MANUAL</td>\n",
       "      <td>rear wheel drive</td>\n",
       "      <td>2.0</td>\n",
       "      <td>Luxury</td>\n",
       "      <td>Compact</td>\n",
       "      <td>Convertible</td>\n",
       "      <td>27</td>\n",
       "      <td>18</td>\n",
       "      <td>3916</td>\n",
       "      <td>37200</td>\n",
       "    </tr>\n",
       "  </tbody>\n",
       "</table>\n",
       "</div>"
      ],
      "text/plain": [
       "  Make       Model  Year             Engine Fuel Type  Engine HP  \\\n",
       "0  BMW  1 Series M  2011  premium unleaded (required)      335.0   \n",
       "1  BMW    1 Series  2011  premium unleaded (required)      300.0   \n",
       "2  BMW    1 Series  2011  premium unleaded (required)      300.0   \n",
       "3  BMW    1 Series  2011  premium unleaded (required)      230.0   \n",
       "4  BMW    1 Series  2011  premium unleaded (required)      230.0   \n",
       "5  BMW    1 Series  2012  premium unleaded (required)      230.0   \n",
       "6  BMW    1 Series  2012  premium unleaded (required)      300.0   \n",
       "7  BMW    1 Series  2012  premium unleaded (required)      300.0   \n",
       "8  BMW    1 Series  2012  premium unleaded (required)      230.0   \n",
       "9  BMW    1 Series  2013  premium unleaded (required)      230.0   \n",
       "\n",
       "   Engine Cylinders Transmission Type     Driven_Wheels  Number of Doors  \\\n",
       "0               6.0            MANUAL  rear wheel drive              2.0   \n",
       "1               6.0            MANUAL  rear wheel drive              2.0   \n",
       "2               6.0            MANUAL  rear wheel drive              2.0   \n",
       "3               6.0            MANUAL  rear wheel drive              2.0   \n",
       "4               6.0            MANUAL  rear wheel drive              2.0   \n",
       "5               6.0            MANUAL  rear wheel drive              2.0   \n",
       "6               6.0            MANUAL  rear wheel drive              2.0   \n",
       "7               6.0            MANUAL  rear wheel drive              2.0   \n",
       "8               6.0            MANUAL  rear wheel drive              2.0   \n",
       "9               6.0            MANUAL  rear wheel drive              2.0   \n",
       "\n",
       "                         Market Category Vehicle Size Vehicle Style  \\\n",
       "0  Factory Tuner,Luxury,High-Performance      Compact         Coupe   \n",
       "1                     Luxury,Performance      Compact   Convertible   \n",
       "2                Luxury,High-Performance      Compact         Coupe   \n",
       "3                     Luxury,Performance      Compact         Coupe   \n",
       "4                                 Luxury      Compact   Convertible   \n",
       "5                     Luxury,Performance      Compact         Coupe   \n",
       "6                     Luxury,Performance      Compact   Convertible   \n",
       "7                Luxury,High-Performance      Compact         Coupe   \n",
       "8                                 Luxury      Compact   Convertible   \n",
       "9                                 Luxury      Compact   Convertible   \n",
       "\n",
       "   highway MPG  city mpg  Popularity   MSRP  \n",
       "0           26        19        3916  46135  \n",
       "1           28        19        3916  40650  \n",
       "2           28        20        3916  36350  \n",
       "3           28        18        3916  29450  \n",
       "4           28        18        3916  34500  \n",
       "5           28        18        3916  31200  \n",
       "6           26        17        3916  44100  \n",
       "7           28        20        3916  39300  \n",
       "8           28        18        3916  36900  \n",
       "9           27        18        3916  37200  "
      ]
     },
     "execution_count": 2,
     "metadata": {},
     "output_type": "execute_result"
    }
   ],
   "source": [
    "data = pd.read_csv(\"data.csv\")\n",
    "raw_copy = data.copy()\n",
    "data.head(10)"
   ]
  },
  {
   "cell_type": "markdown",
   "metadata": {},
   "source": [
    "There are some parameters that require further inspection - the Market Category for example, might require splitting into several columns with something different than just trivial one-hot encoding."
   ]
  },
  {
   "cell_type": "code",
   "execution_count": 3,
   "metadata": {},
   "outputs": [
    {
     "name": "stdout",
     "output_type": "stream",
     "text": [
      "<class 'pandas.core.frame.DataFrame'>\n",
      "RangeIndex: 11914 entries, 0 to 11913\n",
      "Data columns (total 16 columns):\n",
      " #   Column             Non-Null Count  Dtype  \n",
      "---  ------             --------------  -----  \n",
      " 0   Make               11914 non-null  object \n",
      " 1   Model              11914 non-null  object \n",
      " 2   Year               11914 non-null  int64  \n",
      " 3   Engine Fuel Type   11911 non-null  object \n",
      " 4   Engine HP          11845 non-null  float64\n",
      " 5   Engine Cylinders   11884 non-null  float64\n",
      " 6   Transmission Type  11914 non-null  object \n",
      " 7   Driven_Wheels      11914 non-null  object \n",
      " 8   Number of Doors    11908 non-null  float64\n",
      " 9   Market Category    8172 non-null   object \n",
      " 10  Vehicle Size       11914 non-null  object \n",
      " 11  Vehicle Style      11914 non-null  object \n",
      " 12  highway MPG        11914 non-null  int64  \n",
      " 13  city mpg           11914 non-null  int64  \n",
      " 14  Popularity         11914 non-null  int64  \n",
      " 15  MSRP               11914 non-null  int64  \n",
      "dtypes: float64(3), int64(5), object(8)\n",
      "memory usage: 1.5+ MB\n"
     ]
    }
   ],
   "source": [
    "data.info()"
   ]
  },
  {
   "cell_type": "markdown",
   "metadata": {},
   "source": [
    "Not all values are also specified. \n",
    "Let's split the sets first."
   ]
  },
  {
   "cell_type": "code",
   "execution_count": 4,
   "metadata": {},
   "outputs": [],
   "source": [
    "from sklearn.model_selection import train_test_split\n",
    "\n",
    "target = data[\"MSRP\"]\n",
    "data = data.drop([\"MSRP\"], axis = 1)\n",
    "\n",
    "\n",
    "data_train, data_test, target_train, target_data  = train_test_split(data, target, test_size = 0.3)"
   ]
  },
  {
   "cell_type": "code",
   "execution_count": 5,
   "metadata": {},
   "outputs": [
    {
     "data": {
      "text/plain": [
       "regular unleaded                                5020\n",
       "premium unleaded (required)                     1390\n",
       "premium unleaded (recommended)                  1087\n",
       "flex-fuel (unleaded/E85)                         619\n",
       "diesel                                           109\n",
       "electric                                          52\n",
       "flex-fuel (premium unleaded required/E85)         34\n",
       "flex-fuel (premium unleaded recommended/E85)      18\n",
       "flex-fuel (unleaded/natural gas)                   6\n",
       "natural gas                                        2\n",
       "Name: Engine Fuel Type, dtype: int64"
      ]
     },
     "execution_count": 5,
     "metadata": {},
     "output_type": "execute_result"
    }
   ],
   "source": [
    "data_train[\"Engine Fuel Type\"].value_counts()"
   ]
  },
  {
   "cell_type": "markdown",
   "metadata": {},
   "source": [
    "There aren't many entries that correspond to flex-fuel, but they could be replaced with the recommended or required fuel for this category.\n",
    "\n",
    "Also, electric and natural gas will be merged into one \"other\" category, since there aren't many examples of those cars, which might lead to poor results.\n",
    "\n",
    "Also, by default, any unknown category will be encoded as other in the future.\n",
    "\n",
    "Let's code this way of reasoning."
   ]
  },
  {
   "cell_type": "code",
   "execution_count": 6,
   "metadata": {},
   "outputs": [
    {
     "data": {
      "text/plain": [
       "regular unleaded                  5020\n",
       "premium unleaded (required)       1424\n",
       "premium unleaded (recommended)    1105\n",
       "unleaded                           619\n",
       "diesel                             109\n",
       "other                               60\n",
       "dtype: int64"
      ]
     },
     "execution_count": 6,
     "metadata": {},
     "output_type": "execute_result"
    }
   ],
   "source": [
    "from sklearn.base import BaseEstimator, TransformerMixin\n",
    "\n",
    "fuelCategorySubstitution = {\n",
    "    \"electric\" : \"other\",\n",
    "    \"flex-fuel (premium unleaded required/E85)\" : \"premium unleaded (required)\",\n",
    "    \"flex-fuel (premium unleaded recommended/E85)\" : \"premium unleaded (recommended)\",\n",
    "    \"flex-fuel (unleaded/natural gas)\" : \"other\",\n",
    "    \"flex-fuel (unleaded/E85)\" : \"unleaded\",\n",
    "    \"natural gas\" : \"other\"\n",
    "}\n",
    "\n",
    "class LabelSwapper(BaseEstimator, TransformerMixin):\n",
    "    def __init__(self, columnIndices, replacementDictionaries):\n",
    "        self.columnIndices = columnIndices\n",
    "        self.replacementDictionaries = replacementDictionaries\n",
    "    def fit(self, X, y = None):\n",
    "        return self\n",
    "    def transform(self, X):\n",
    "        tr = X.copy()\n",
    "        for columnNumerator, columnIndex in enumerate(self.columnIndices):\n",
    "            for key,value in self.replacementDictionaries[columnNumerator].items():\n",
    "                tr[tr[:,columnIndex]==key] = value\n",
    "        return tr\n",
    "\n",
    "class SimpleLabelSwapper(BaseEstimator, TransformerMixin):\n",
    "    def __init__(self, dictionary):\n",
    "        self.dictionary = dictionary\n",
    "    def fit(self, X, y = None):\n",
    "        return self\n",
    "    def transform(self, X):\n",
    "        tr = X.copy()\n",
    "        for _from, _to in self.dictionary.items():\n",
    "            tr[tr==_from] = _to\n",
    "        return tr\n",
    "            \n",
    "\n",
    "    \n",
    "#let's see this in action\n",
    "\n",
    "ls = LabelSwapper(\n",
    "    [data_train.columns.get_loc(\"Engine Fuel Type\")],\n",
    "    [fuelCategorySubstitution]\n",
    ")\n",
    "\n",
    "pd.DataFrame(\n",
    "    (ls.fit_transform(data_train.to_numpy()))[:,data_train.columns.get_loc(\"Engine Fuel Type\")]\n",
    ").value_counts()"
   ]
  },
  {
   "cell_type": "markdown",
   "metadata": {},
   "source": [
    "Next, it is required to take care of the market category column, which requires some splitting. This will be an extended version of one-hot encoding."
   ]
  },
  {
   "cell_type": "code",
   "execution_count": 7,
   "metadata": {},
   "outputs": [
    {
     "data": {
      "text/plain": [
       "Crossover                                          775\n",
       "Luxury                                             604\n",
       "Flex Fuel                                          600\n",
       "Luxury,Performance                                 467\n",
       "Hatchback                                          460\n",
       "                                                  ... \n",
       "Crossover,Exotic,Luxury,Performance                  1\n",
       "Performance,Hybrid                                   1\n",
       "Exotic,Factory Tuner,Luxury,Performance              1\n",
       "Crossover,Luxury,Performance,Hybrid                  1\n",
       "Flex Fuel,Factory Tuner,Luxury,High-Performance      1\n",
       "Name: Market Category, Length: 71, dtype: int64"
      ]
     },
     "execution_count": 7,
     "metadata": {},
     "output_type": "execute_result"
    }
   ],
   "source": [
    "data_train[\"Market Category\"].value_counts()"
   ]
  },
  {
   "cell_type": "code",
   "execution_count": 8,
   "metadata": {
    "scrolled": true
   },
   "outputs": [
    {
     "data": {
      "text/html": [
       "<div>\n",
       "<style scoped>\n",
       "    .dataframe tbody tr th:only-of-type {\n",
       "        vertical-align: middle;\n",
       "    }\n",
       "\n",
       "    .dataframe tbody tr th {\n",
       "        vertical-align: top;\n",
       "    }\n",
       "\n",
       "    .dataframe thead th {\n",
       "        text-align: right;\n",
       "    }\n",
       "</style>\n",
       "<table border=\"1\" class=\"dataframe\">\n",
       "  <thead>\n",
       "    <tr style=\"text-align: right;\">\n",
       "      <th></th>\n",
       "      <th>0</th>\n",
       "      <th>1</th>\n",
       "      <th>2</th>\n",
       "      <th>3</th>\n",
       "      <th>4</th>\n",
       "      <th>5</th>\n",
       "      <th>6</th>\n",
       "      <th>7</th>\n",
       "      <th>8</th>\n",
       "      <th>9</th>\n",
       "      <th>10</th>\n",
       "      <th>11</th>\n",
       "      <th>12</th>\n",
       "      <th>13</th>\n",
       "      <th>14</th>\n",
       "      <th>15</th>\n",
       "      <th>16</th>\n",
       "      <th>17</th>\n",
       "      <th>18</th>\n",
       "      <th>19</th>\n",
       "      <th>20</th>\n",
       "      <th>21</th>\n",
       "      <th>22</th>\n",
       "      <th>23</th>\n",
       "    </tr>\n",
       "  </thead>\n",
       "  <tbody>\n",
       "    <tr>\n",
       "      <th>0</th>\n",
       "      <td>Ford</td>\n",
       "      <td>F-250</td>\n",
       "      <td>1999</td>\n",
       "      <td>regular unleaded</td>\n",
       "      <td>220.0</td>\n",
       "      <td>8.0</td>\n",
       "      <td>MANUAL</td>\n",
       "      <td>four wheel drive</td>\n",
       "      <td>4.0</td>\n",
       "      <td>1.0</td>\n",
       "      <td>0.0</td>\n",
       "      <td>0.0</td>\n",
       "      <td>0.0</td>\n",
       "      <td>0.0</td>\n",
       "      <td>0.0</td>\n",
       "      <td>0.0</td>\n",
       "      <td>0.0</td>\n",
       "      <td>0.0</td>\n",
       "      <td>0.0</td>\n",
       "      <td>Large</td>\n",
       "      <td>Extended Cab Pickup</td>\n",
       "      <td>16</td>\n",
       "      <td>12</td>\n",
       "      <td>5657</td>\n",
       "    </tr>\n",
       "    <tr>\n",
       "      <th>1</th>\n",
       "      <td>Mazda</td>\n",
       "      <td>3</td>\n",
       "      <td>2017</td>\n",
       "      <td>regular unleaded</td>\n",
       "      <td>184.0</td>\n",
       "      <td>4.0</td>\n",
       "      <td>AUTOMATIC</td>\n",
       "      <td>front wheel drive</td>\n",
       "      <td>4.0</td>\n",
       "      <td>1.0</td>\n",
       "      <td>1.0</td>\n",
       "      <td>1.0</td>\n",
       "      <td>1.0</td>\n",
       "      <td>0.0</td>\n",
       "      <td>0.0</td>\n",
       "      <td>0.0</td>\n",
       "      <td>0.0</td>\n",
       "      <td>0.0</td>\n",
       "      <td>0.0</td>\n",
       "      <td>Midsize</td>\n",
       "      <td>Sedan</td>\n",
       "      <td>36</td>\n",
       "      <td>27</td>\n",
       "      <td>586</td>\n",
       "    </tr>\n",
       "    <tr>\n",
       "      <th>2</th>\n",
       "      <td>Volkswagen</td>\n",
       "      <td>Jetta SportWagen</td>\n",
       "      <td>2014</td>\n",
       "      <td>regular unleaded</td>\n",
       "      <td>170.0</td>\n",
       "      <td>5.0</td>\n",
       "      <td>AUTOMATIC</td>\n",
       "      <td>front wheel drive</td>\n",
       "      <td>4.0</td>\n",
       "      <td>0.0</td>\n",
       "      <td>0.0</td>\n",
       "      <td>0.0</td>\n",
       "      <td>0.0</td>\n",
       "      <td>1.0</td>\n",
       "      <td>0.0</td>\n",
       "      <td>0.0</td>\n",
       "      <td>0.0</td>\n",
       "      <td>0.0</td>\n",
       "      <td>0.0</td>\n",
       "      <td>Compact</td>\n",
       "      <td>Wagon</td>\n",
       "      <td>30</td>\n",
       "      <td>23</td>\n",
       "      <td>873</td>\n",
       "    </tr>\n",
       "    <tr>\n",
       "      <th>3</th>\n",
       "      <td>Nissan</td>\n",
       "      <td>Juke</td>\n",
       "      <td>2017</td>\n",
       "      <td>premium unleaded (required)</td>\n",
       "      <td>215.0</td>\n",
       "      <td>4.0</td>\n",
       "      <td>MANUAL</td>\n",
       "      <td>front wheel drive</td>\n",
       "      <td>4.0</td>\n",
       "      <td>0.0</td>\n",
       "      <td>1.0</td>\n",
       "      <td>0.0</td>\n",
       "      <td>0.0</td>\n",
       "      <td>0.0</td>\n",
       "      <td>0.0</td>\n",
       "      <td>0.0</td>\n",
       "      <td>0.0</td>\n",
       "      <td>0.0</td>\n",
       "      <td>0.0</td>\n",
       "      <td>Compact</td>\n",
       "      <td>4dr Hatchback</td>\n",
       "      <td>31</td>\n",
       "      <td>26</td>\n",
       "      <td>2009</td>\n",
       "    </tr>\n",
       "    <tr>\n",
       "      <th>4</th>\n",
       "      <td>Dodge</td>\n",
       "      <td>Ram Pickup 1500</td>\n",
       "      <td>2010</td>\n",
       "      <td>flex-fuel (unleaded/E85)</td>\n",
       "      <td>310.0</td>\n",
       "      <td>8.0</td>\n",
       "      <td>AUTOMATIC</td>\n",
       "      <td>rear wheel drive</td>\n",
       "      <td>2.0</td>\n",
       "      <td>0.0</td>\n",
       "      <td>1.0</td>\n",
       "      <td>0.0</td>\n",
       "      <td>0.0</td>\n",
       "      <td>0.0</td>\n",
       "      <td>1.0</td>\n",
       "      <td>0.0</td>\n",
       "      <td>0.0</td>\n",
       "      <td>0.0</td>\n",
       "      <td>0.0</td>\n",
       "      <td>Large</td>\n",
       "      <td>Regular Cab Pickup</td>\n",
       "      <td>19</td>\n",
       "      <td>14</td>\n",
       "      <td>1851</td>\n",
       "    </tr>\n",
       "    <tr>\n",
       "      <th>...</th>\n",
       "      <td>...</td>\n",
       "      <td>...</td>\n",
       "      <td>...</td>\n",
       "      <td>...</td>\n",
       "      <td>...</td>\n",
       "      <td>...</td>\n",
       "      <td>...</td>\n",
       "      <td>...</td>\n",
       "      <td>...</td>\n",
       "      <td>...</td>\n",
       "      <td>...</td>\n",
       "      <td>...</td>\n",
       "      <td>...</td>\n",
       "      <td>...</td>\n",
       "      <td>...</td>\n",
       "      <td>...</td>\n",
       "      <td>...</td>\n",
       "      <td>...</td>\n",
       "      <td>...</td>\n",
       "      <td>...</td>\n",
       "      <td>...</td>\n",
       "      <td>...</td>\n",
       "      <td>...</td>\n",
       "      <td>...</td>\n",
       "    </tr>\n",
       "    <tr>\n",
       "      <th>8334</th>\n",
       "      <td>Ferrari</td>\n",
       "      <td>458 Italia</td>\n",
       "      <td>2013</td>\n",
       "      <td>premium unleaded (required)</td>\n",
       "      <td>562.0</td>\n",
       "      <td>8.0</td>\n",
       "      <td>AUTOMATED_MANUAL</td>\n",
       "      <td>rear wheel drive</td>\n",
       "      <td>2.0</td>\n",
       "      <td>0.0</td>\n",
       "      <td>0.0</td>\n",
       "      <td>0.0</td>\n",
       "      <td>0.0</td>\n",
       "      <td>0.0</td>\n",
       "      <td>0.0</td>\n",
       "      <td>0.0</td>\n",
       "      <td>0.0</td>\n",
       "      <td>0.0</td>\n",
       "      <td>0.0</td>\n",
       "      <td>Compact</td>\n",
       "      <td>Convertible</td>\n",
       "      <td>17</td>\n",
       "      <td>13</td>\n",
       "      <td>2774</td>\n",
       "    </tr>\n",
       "    <tr>\n",
       "      <th>8335</th>\n",
       "      <td>Volkswagen</td>\n",
       "      <td>Beetle Convertible</td>\n",
       "      <td>2015</td>\n",
       "      <td>diesel</td>\n",
       "      <td>150.0</td>\n",
       "      <td>4.0</td>\n",
       "      <td>MANUAL</td>\n",
       "      <td>front wheel drive</td>\n",
       "      <td>2.0</td>\n",
       "      <td>0.0</td>\n",
       "      <td>0.0</td>\n",
       "      <td>0.0</td>\n",
       "      <td>0.0</td>\n",
       "      <td>0.0</td>\n",
       "      <td>0.0</td>\n",
       "      <td>0.0</td>\n",
       "      <td>0.0</td>\n",
       "      <td>0.0</td>\n",
       "      <td>0.0</td>\n",
       "      <td>Compact</td>\n",
       "      <td>Convertible</td>\n",
       "      <td>40</td>\n",
       "      <td>30</td>\n",
       "      <td>873</td>\n",
       "    </tr>\n",
       "    <tr>\n",
       "      <th>8336</th>\n",
       "      <td>Ford</td>\n",
       "      <td>Escort</td>\n",
       "      <td>2002</td>\n",
       "      <td>regular unleaded</td>\n",
       "      <td>110.0</td>\n",
       "      <td>4.0</td>\n",
       "      <td>AUTOMATIC</td>\n",
       "      <td>front wheel drive</td>\n",
       "      <td>4.0</td>\n",
       "      <td>0.0</td>\n",
       "      <td>0.0</td>\n",
       "      <td>0.0</td>\n",
       "      <td>0.0</td>\n",
       "      <td>0.0</td>\n",
       "      <td>0.0</td>\n",
       "      <td>0.0</td>\n",
       "      <td>0.0</td>\n",
       "      <td>0.0</td>\n",
       "      <td>0.0</td>\n",
       "      <td>Compact</td>\n",
       "      <td>Sedan</td>\n",
       "      <td>32</td>\n",
       "      <td>23</td>\n",
       "      <td>5657</td>\n",
       "    </tr>\n",
       "    <tr>\n",
       "      <th>8337</th>\n",
       "      <td>Mitsubishi</td>\n",
       "      <td>Outlander</td>\n",
       "      <td>2017</td>\n",
       "      <td>regular unleaded</td>\n",
       "      <td>166.0</td>\n",
       "      <td>4.0</td>\n",
       "      <td>AUTOMATIC</td>\n",
       "      <td>all wheel drive</td>\n",
       "      <td>4.0</td>\n",
       "      <td>0.0</td>\n",
       "      <td>0.0</td>\n",
       "      <td>0.0</td>\n",
       "      <td>0.0</td>\n",
       "      <td>0.0</td>\n",
       "      <td>0.0</td>\n",
       "      <td>0.0</td>\n",
       "      <td>0.0</td>\n",
       "      <td>0.0</td>\n",
       "      <td>0.0</td>\n",
       "      <td>Midsize</td>\n",
       "      <td>4dr SUV</td>\n",
       "      <td>29</td>\n",
       "      <td>24</td>\n",
       "      <td>436</td>\n",
       "    </tr>\n",
       "    <tr>\n",
       "      <th>8338</th>\n",
       "      <td>Audi</td>\n",
       "      <td>TT</td>\n",
       "      <td>2015</td>\n",
       "      <td>premium unleaded (recommended)</td>\n",
       "      <td>211.0</td>\n",
       "      <td>4.0</td>\n",
       "      <td>AUTOMATED_MANUAL</td>\n",
       "      <td>all wheel drive</td>\n",
       "      <td>2.0</td>\n",
       "      <td>0.0</td>\n",
       "      <td>0.0</td>\n",
       "      <td>0.0</td>\n",
       "      <td>0.0</td>\n",
       "      <td>0.0</td>\n",
       "      <td>0.0</td>\n",
       "      <td>0.0</td>\n",
       "      <td>0.0</td>\n",
       "      <td>0.0</td>\n",
       "      <td>0.0</td>\n",
       "      <td>Compact</td>\n",
       "      <td>Coupe</td>\n",
       "      <td>31</td>\n",
       "      <td>22</td>\n",
       "      <td>3105</td>\n",
       "    </tr>\n",
       "  </tbody>\n",
       "</table>\n",
       "<p>8339 rows × 24 columns</p>\n",
       "</div>"
      ],
      "text/plain": [
       "              0                   1     2                               3   \\\n",
       "0           Ford               F-250  1999                regular unleaded   \n",
       "1          Mazda                   3  2017                regular unleaded   \n",
       "2     Volkswagen    Jetta SportWagen  2014                regular unleaded   \n",
       "3         Nissan                Juke  2017     premium unleaded (required)   \n",
       "4          Dodge     Ram Pickup 1500  2010        flex-fuel (unleaded/E85)   \n",
       "...          ...                 ...   ...                             ...   \n",
       "8334     Ferrari          458 Italia  2013     premium unleaded (required)   \n",
       "8335  Volkswagen  Beetle Convertible  2015                          diesel   \n",
       "8336        Ford              Escort  2002                regular unleaded   \n",
       "8337  Mitsubishi           Outlander  2017                regular unleaded   \n",
       "8338        Audi                  TT  2015  premium unleaded (recommended)   \n",
       "\n",
       "         4    5                 6                  7    8    9    10   11  \\\n",
       "0     220.0  8.0            MANUAL   four wheel drive  4.0  1.0  0.0  0.0   \n",
       "1     184.0  4.0         AUTOMATIC  front wheel drive  4.0  1.0  1.0  1.0   \n",
       "2     170.0  5.0         AUTOMATIC  front wheel drive  4.0  0.0  0.0  0.0   \n",
       "3     215.0  4.0            MANUAL  front wheel drive  4.0  0.0  1.0  0.0   \n",
       "4     310.0  8.0         AUTOMATIC   rear wheel drive  2.0  0.0  1.0  0.0   \n",
       "...     ...  ...               ...                ...  ...  ...  ...  ...   \n",
       "8334  562.0  8.0  AUTOMATED_MANUAL   rear wheel drive  2.0  0.0  0.0  0.0   \n",
       "8335  150.0  4.0            MANUAL  front wheel drive  2.0  0.0  0.0  0.0   \n",
       "8336  110.0  4.0         AUTOMATIC  front wheel drive  4.0  0.0  0.0  0.0   \n",
       "8337  166.0  4.0         AUTOMATIC    all wheel drive  4.0  0.0  0.0  0.0   \n",
       "8338  211.0  4.0  AUTOMATED_MANUAL    all wheel drive  2.0  0.0  0.0  0.0   \n",
       "\n",
       "       12   13   14   15   16   17   18       19                   20  21  22  \\\n",
       "0     0.0  0.0  0.0  0.0  0.0  0.0  0.0    Large  Extended Cab Pickup  16  12   \n",
       "1     1.0  0.0  0.0  0.0  0.0  0.0  0.0  Midsize                Sedan  36  27   \n",
       "2     0.0  1.0  0.0  0.0  0.0  0.0  0.0  Compact                Wagon  30  23   \n",
       "3     0.0  0.0  0.0  0.0  0.0  0.0  0.0  Compact        4dr Hatchback  31  26   \n",
       "4     0.0  0.0  1.0  0.0  0.0  0.0  0.0    Large   Regular Cab Pickup  19  14   \n",
       "...   ...  ...  ...  ...  ...  ...  ...      ...                  ...  ..  ..   \n",
       "8334  0.0  0.0  0.0  0.0  0.0  0.0  0.0  Compact          Convertible  17  13   \n",
       "8335  0.0  0.0  0.0  0.0  0.0  0.0  0.0  Compact          Convertible  40  30   \n",
       "8336  0.0  0.0  0.0  0.0  0.0  0.0  0.0  Compact                Sedan  32  23   \n",
       "8337  0.0  0.0  0.0  0.0  0.0  0.0  0.0  Midsize              4dr SUV  29  24   \n",
       "8338  0.0  0.0  0.0  0.0  0.0  0.0  0.0  Compact                Coupe  31  22   \n",
       "\n",
       "        23  \n",
       "0     5657  \n",
       "1      586  \n",
       "2      873  \n",
       "3     2009  \n",
       "4     1851  \n",
       "...    ...  \n",
       "8334  2774  \n",
       "8335   873  \n",
       "8336  5657  \n",
       "8337   436  \n",
       "8338  3105  \n",
       "\n",
       "[8339 rows x 24 columns]"
      ]
     },
     "execution_count": 8,
     "metadata": {},
     "output_type": "execute_result"
    }
   ],
   "source": [
    "import scipy #for sparse matrices\n",
    "\n",
    "class FeatureExploder(BaseEstimator, TransformerMixin):\n",
    "    def __init__(self, columnIndices):\n",
    "        self.columnIndices = columnIndices\n",
    "        if not len(columnIndices):\n",
    "            print(\"Warning! ColumnIndices shouldn't be empty\")\n",
    "    def fit(self, X, y = None):\n",
    "        self.dictionaries = [{} for _ in range(len(self.columnIndices))]\n",
    "        \n",
    "        for columnNumerator, columnIndex in enumerate(self.columnIndices):\n",
    "            for cEntry in X[:,columnIndex]:\n",
    "                if pd.isnull(cEntry):\n",
    "                    continue\n",
    "                for word in cEntry.split(\",\"):\n",
    "                    if word not in self.dictionaries[columnNumerator]:\n",
    "                        self.dictionaries[columnNumerator][word] = len(self.dictionaries[columnNumerator])\n",
    "        return self\n",
    "    def transform(self, X):\n",
    "        tr = X.copy()[:,:self.columnIndices[0]]\n",
    "        for columnNumerator, columnIndex in enumerate(self.columnIndices):\n",
    "            newA = np.zeros((X.shape[0], len(self.dictionaries[columnNumerator])))\n",
    "            rowIdx = 0\n",
    "            for cEntry in X[:,columnIndex]:\n",
    "                if pd.isnull(cEntry):\n",
    "                    continue\n",
    "                for entry in cEntry.split(\",\"):\n",
    "                    if entry in self.dictionaries[columnNumerator]:\n",
    "                        newA[rowIdx,self.dictionaries[columnNumerator][entry]] = 1\n",
    "                rowIdx += 1\n",
    "            if columnNumerator != len(self.columnIndices) -1:\n",
    "                tr = np.c_[tr, newA, X[:,columnIndex+1:self.columnIndices[self.columnNumerator+1]]]\n",
    "            else:\n",
    "                tr = np.c_[tr, newA, X[:,columnIndex+1:]]\n",
    "        return tr\n",
    "    \n",
    "fe = FeatureExploder(\n",
    "    [data_train.columns.get_loc(\"Market Category\")],\n",
    ")\n",
    "\n",
    "pd.set_option(\"display.max_columns\", None)\n",
    "\n",
    "pd.DataFrame(\n",
    "    (fe.fit_transform(data_train.to_numpy()))\n",
    ").sort_index()"
   ]
  },
  {
   "cell_type": "markdown",
   "metadata": {},
   "source": [
    "This encoding looks correct. However, it might be better to rephrase the code so it can be used with a column transformer."
   ]
  },
  {
   "cell_type": "code",
   "execution_count": 157,
   "metadata": {},
   "outputs": [],
   "source": [
    "class ColumnExploder(BaseEstimator, TransformerMixin):\n",
    "    def __init__(self):\n",
    "        pass\n",
    "    def fit(self, X, y = None):\n",
    "        self.dict = {}\n",
    "        X  = X.to_numpy().reshape(-1,)\n",
    "        for entry in X:\n",
    "            if pd.isnull(entry):\n",
    "                continue\n",
    "            for word in entry.split(\",\"):\n",
    "                if word not in self.dict:\n",
    "                    self.dict[word] = len(self.dict)\n",
    "        return self\n",
    "    def transform(self, X):\n",
    "        X = X.to_numpy().reshape(-1,)\n",
    "        res = scipy.sparse.lil_matrix((len(X), len(self.dict)))\n",
    "        for idx, cEntry in enumerate(X):\n",
    "            if pd.isnull(cEntry):\n",
    "                continue\n",
    "            for entry in cEntry.split(\",\"):\n",
    "                if entry in self.dict:\n",
    "                    res[idx, self.dict[entry]] = 1\n",
    "        return res\n",
    "            "
   ]
  },
  {
   "cell_type": "code",
   "execution_count": 158,
   "metadata": {},
   "outputs": [
    {
     "data": {
      "text/plain": [
       "array([[0., 0., 0., ..., 0., 0., 0.],\n",
       "       [1., 0., 0., ..., 0., 0., 0.],\n",
       "       [0., 0., 0., ..., 0., 0., 0.],\n",
       "       ...,\n",
       "       [0., 0., 0., ..., 0., 0., 0.],\n",
       "       [0., 1., 0., ..., 0., 0., 0.],\n",
       "       [0., 0., 0., ..., 0., 0., 0.]])"
      ]
     },
     "execution_count": 158,
     "metadata": {},
     "output_type": "execute_result"
    }
   ],
   "source": [
    "ce = ColumnExploder()\n",
    "\n",
    "pd.set_option(\"display.max_columns\", None)\n",
    "\n",
    "(ce.fit_transform(data_train[\"Market Category\"])).toarray()"
   ]
  },
  {
   "cell_type": "markdown",
   "metadata": {},
   "source": [
    "Let's now display a histogram of numerical values."
   ]
  },
  {
   "cell_type": "code",
   "execution_count": 11,
   "metadata": {},
   "outputs": [
    {
     "data": {
      "image/png": "[encoded data removed]",
      "text/plain": [
       "<Figure size 1080x648 with 9 Axes>"
      ]
     },
     "metadata": {
      "needs_background": "light"
     },
     "output_type": "display_data"
    }
   ],
   "source": [
    "data_train.hist(bins = 7, figsize=(15, 9))\n",
    "pass"
   ]
  },
  {
   "cell_type": "markdown",
   "metadata": {},
   "source": [
    "Many values are skewed, for example Popularity or city mpg. For efficient training it might be useful to to transform them."
   ]
  },
  {
   "cell_type": "code",
   "execution_count": 12,
   "metadata": {},
   "outputs": [
    {
     "data": {
      "text/plain": [
       "<AxesSubplot:>"
      ]
     },
     "execution_count": 12,
     "metadata": {},
     "output_type": "execute_result"
    },
    {
     "data": {
      "image/png": "[encoded data removed]",
      "text/plain": [
       "<Figure size 432x288 with 1 Axes>"
      ]
     },
     "metadata": {
      "needs_background": "light"
     },
     "output_type": "display_data"
    }
   ],
   "source": [
    "np.sqrt(data_train[\"Popularity\"]).hist()"
   ]
  },
  {
   "cell_type": "code",
   "execution_count": 13,
   "metadata": {},
   "outputs": [
    {
     "data": {
      "text/plain": [
       "<AxesSubplot:>"
      ]
     },
     "execution_count": 13,
     "metadata": {},
     "output_type": "execute_result"
    },
    {
     "data": {
      "image/png": "[encoded data removed]",
      "text/plain": [
       "<Figure size 432x288 with 1 Axes>"
      ]
     },
     "metadata": {
      "needs_background": "light"
     },
     "output_type": "display_data"
    }
   ],
   "source": [
    "np.log(data_train[\"city mpg\"]).hist()"
   ]
  },
  {
   "cell_type": "code",
   "execution_count": 14,
   "metadata": {},
   "outputs": [
    {
     "data": {
      "text/plain": [
       "<AxesSubplot:>"
      ]
     },
     "execution_count": 14,
     "metadata": {},
     "output_type": "execute_result"
    },
    {
     "data": {
      "image/png": "[encoded data removed]",
      "text/plain": [
       "<Figure size 432x288 with 1 Axes>"
      ]
     },
     "metadata": {
      "needs_background": "light"
     },
     "output_type": "display_data"
    }
   ],
   "source": [
    "np.log(data_train[\"highway MPG\"]).hist()"
   ]
  },
  {
   "cell_type": "markdown",
   "metadata": {},
   "source": [
    "Also, number of doors could be categorised.\n",
    "Let's look at the correlation matrix and then start building the transformer."
   ]
  },
  {
   "cell_type": "code",
   "execution_count": 15,
   "metadata": {},
   "outputs": [
    {
     "data": {
      "image/png": "[encoded data removed]",
      "text/plain": [
       "<Figure size 1296x648 with 36 Axes>"
      ]
     },
     "metadata": {
      "needs_background": "light"
     },
     "output_type": "display_data"
    }
   ],
   "source": [
    "from pandas.plotting import scatter_matrix\n",
    "\n",
    "scatter_matrix(raw_copy[[\"MSRP\", \"Engine HP\", \"Engine Cylinders\", \"highway MPG\", \"city mpg\", \"Popularity\"]], \n",
    "              figsize=(18, 9))\n",
    "pass"
   ]
  },
  {
   "cell_type": "markdown",
   "metadata": {},
   "source": [
    "As can be seen, MSRP tends to depend mostly on Engine HP, also on number of cylinders, and somehow on city MPG, though it's not the best predictor."
   ]
  },
  {
   "cell_type": "code",
   "execution_count": 153,
   "metadata": {},
   "outputs": [],
   "source": [
    "from sklearn.compose import ColumnTransformer\n",
    "from sklearn.preprocessing import StandardScaler\n",
    "from sklearn.pipeline import Pipeline\n",
    "from sklearn.preprocessing import FunctionTransformer\n",
    "from sklearn.impute import SimpleImputer\n",
    "from sklearn.preprocessing import OneHotEncoder"
   ]
  },
  {
   "cell_type": "code",
   "execution_count": 245,
   "metadata": {},
   "outputs": [],
   "source": [
    "numericalTransform = Pipeline([\n",
    "    (\"imputer\", SimpleImputer(strategy=\"mean\")),\n",
    "    (\"scaler\", StandardScaler())\n",
    "])\n",
    "\n",
    "logTransform = Pipeline([\n",
    "    (\"log1p\", FunctionTransformer(np.log1p)),\n",
    "    (\"numerical\", numericalTransform)\n",
    "])\n",
    "\n",
    "sqrtTransform = Pipeline([\n",
    "    (\"sqrt\", FunctionTransformer(np.sqrt)),\n",
    "    (\"numerical\", numericalTransform)\n",
    "])\n",
    "\n",
    "replacedSwapper = Pipeline([\n",
    "    (\"replacing\", SimpleLabelSwapper(fuelCategorySubstitution)),\n",
    "    (\"imputer\", SimpleImputer(strategy=\"most_frequent\")),\n",
    "    (\"encoding\", OneHotEncoder(handle_unknown = 'ignore'))\n",
    "])\n",
    "\n",
    "categoricalEncoder = Pipeline([\n",
    "    (\"imputer\", SimpleImputer(strategy='most_frequent')),\n",
    "    (\"encoder\", OneHotEncoder(handle_unknown = 'ignore'))\n",
    "])"
   ]
  },
  {
   "cell_type": "markdown",
   "metadata": {},
   "source": [
    "I do not interpret number of doors as a numerical feature, since it might be more effective to use it as a category instead."
   ]
  },
  {
   "cell_type": "code",
   "execution_count": 246,
   "metadata": {},
   "outputs": [],
   "source": [
    "normalNumerical = [\"Year\", \"Engine HP\", \"Engine Cylinders\"]\n",
    "logNumerical = [\"city mpg\", \"highway MPG\"]\n",
    "sqrtNumerical = [\"Popularity\"]\n",
    "simpleCategorical = [\"Make\", \"Model\", \"Transmission Type\", \"Driven_Wheels\", \"Number of Doors\", \"Vehicle Size\",\n",
    "                    \"Vehicle Style\"]\n",
    "explodedCategorical = [\"Market Category\"]\n",
    "replacedCategorical = [\"Engine Fuel Type\"]\n",
    "\n",
    "pipeline = ColumnTransformer([\n",
    "    (\"categorical\", categoricalEncoder, simpleCategorical),\n",
    "    (\"explodedCategorical\", ColumnExploder(), explodedCategorical),\n",
    "    (\"replacedCategorical\", replacedSwapper, replacedCategorical),\n",
    "    (\"numerical\", numericalTransform, normalNumerical),\n",
    "    (\"logNumerical\", logTransform, logNumerical),\n",
    "    (\"sqrtNumerical\", sqrtTransform, sqrtNumerical)\n",
    "])"
   ]
  },
  {
   "cell_type": "markdown",
   "metadata": {},
   "source": [
    "Seems to work well."
   ]
  },
  {
   "cell_type": "markdown",
   "metadata": {},
   "source": [
    "Now let's search for the best simple model to fit this data."
   ]
  },
  {
   "cell_type": "code",
   "execution_count": 177,
   "metadata": {},
   "outputs": [],
   "source": [
    "from sklearn.model_selection import RandomizedSearchCV\n",
    "from sklearn.model_selection import GridSearchCV"
   ]
  },
  {
   "cell_type": "code",
   "execution_count": 178,
   "metadata": {},
   "outputs": [],
   "source": [
    "from sklearn.linear_model import Ridge\n",
    "from sklearn.svm import SVR\n",
    "from sklearn.ensemble import RandomForestRegressor\n",
    "from sklearn.svm import LinearSVR"
   ]
  },
  {
   "cell_type": "code",
   "execution_count": 179,
   "metadata": {},
   "outputs": [],
   "source": [
    "train_preprocessed = pipeline.fit_transform(data_train)"
   ]
  },
  {
   "cell_type": "code",
   "execution_count": 180,
   "metadata": {},
   "outputs": [
    {
     "name": "stdout",
     "output_type": "stream",
     "text": [
      "21388.665415454645\n"
     ]
    }
   ],
   "source": [
    "linreg = Ridge()\n",
    "linreg_params = {\n",
    "    \"alpha\":np.linspace(1e-9, 10, 10)\n",
    "}\n",
    "search = RandomizedSearchCV(linreg, param_distributions=linreg_params,\n",
    "                           cv = 3, scoring = \"neg_mean_squared_error\")\n",
    "search.fit(train_preprocessed, target_train)\n",
    "print(np.amin(np.sqrt(-search.cv_results_[\"mean_test_score\"])))"
   ]
  },
  {
   "cell_type": "code",
   "execution_count": 182,
   "metadata": {},
   "outputs": [
    {
     "name": "stdout",
     "output_type": "stream",
     "text": [
      "37114.4656564819\n"
     ]
    },
    {
     "data": {
      "text/plain": [
       "SVR(C=10000.0, epsilon=2.5000075)"
      ]
     },
     "execution_count": 182,
     "metadata": {},
     "output_type": "execute_result"
    }
   ],
   "source": [
    "svr = SVR()\n",
    "svr_params = [\n",
    "    {\n",
    "        \"kernel\":[\"rbf\"], \"gamma\" : [\"scale\", \"auto\"], \"C\" : np.linspace(1e-5, 10000, 8),\n",
    "        \"epsilon\" : np.linspace(1e-5, 10, 5)\n",
    "    },\n",
    "    {\n",
    "        \"kernel\":[\"linear\"], \"C\" : np.logspace(1e-9, 10, 5)\n",
    "    }\n",
    "]\n",
    "search = RandomizedSearchCV(svr, param_distributions=svr_params,\n",
    "                           cv = 3 ,scoring=\"neg_mean_squared_error\")\n",
    "search.fit(train_preprocessed, target_train)\n",
    "print(np.amin(np.sqrt(-search.cv_results_[\"mean_test_score\"])))\n",
    "search.best_estimator_"
   ]
  },
  {
   "cell_type": "code",
   "execution_count": 185,
   "metadata": {},
   "outputs": [
    {
     "name": "stdout",
     "output_type": "stream",
     "text": [
      "21104.818029650185\n"
     ]
    }
   ],
   "source": [
    "rfr = RandomForestRegressor()\n",
    "rfr_params = {\n",
    "    \"n_estimators\" : np.linspace(10, 1000, 10, dtype=int),\n",
    "    \"max_depth\" : np.linspace(3, 15, 10, dtype=int),\n",
    "}\n",
    "search = RandomizedSearchCV(rfr, param_distributions=rfr_params, n_jobs = 8,\n",
    "                           cv = 3, scoring=\"neg_mean_squared_error\")\n",
    "search.fit(train_preprocessed, target_train)\n",
    "print(np.amin(np.sqrt(-search.cv_results_[\"mean_test_score\"])))"
   ]
  },
  {
   "cell_type": "markdown",
   "metadata": {},
   "source": [
    "Let's explore the random forest regressor a bit more."
   ]
  },
  {
   "cell_type": "code",
   "execution_count": 186,
   "metadata": {},
   "outputs": [
    {
     "data": {
      "text/plain": [
       "RandomForestRegressor(max_depth=11, n_estimators=340)"
      ]
     },
     "execution_count": 186,
     "metadata": {},
     "output_type": "execute_result"
    }
   ],
   "source": [
    "search.best_estimator_"
   ]
  },
  {
   "cell_type": "code",
   "execution_count": 187,
   "metadata": {},
   "outputs": [
    {
     "name": "stdout",
     "output_type": "stream",
     "text": [
      "20781.298094483995\n"
     ]
    }
   ],
   "source": [
    "rfr_params = {\n",
    "    \"n_estimators\" : np.linspace(250, 500, 20, dtype = int),\n",
    "    \"max_depth\" : np.linspace(8, 8+5, 5, dtype = int)\n",
    "}\n",
    "search = RandomizedSearchCV(rfr, param_distributions=rfr_params,\n",
    "                           cv = 3, scoring=\"neg_mean_squared_error\", n_jobs=8)\n",
    "search.fit(train_preprocessed, target_train)\n",
    "print(np.amin(np.sqrt(-search.cv_results_[\"mean_test_score\"])))"
   ]
  },
  {
   "cell_type": "code",
   "execution_count": 188,
   "metadata": {},
   "outputs": [
    {
     "data": {
      "text/plain": [
       "RandomForestRegressor(max_depth=11, n_estimators=250)"
      ]
     },
     "execution_count": 188,
     "metadata": {},
     "output_type": "execute_result"
    }
   ],
   "source": [
    "search.best_estimator_"
   ]
  },
  {
   "cell_type": "markdown",
   "metadata": {},
   "source": [
    "Not the best score. Let's look back at SVR."
   ]
  },
  {
   "cell_type": "code",
   "execution_count": 198,
   "metadata": {},
   "outputs": [
    {
     "name": "stderr",
     "output_type": "stream",
     "text": [
      "/home/karolszustakowski/.local/lib/python3.8/site-packages/sklearn/svm/_base.py:985: ConvergenceWarning: Liblinear failed to converge, increase the number of iterations.\n",
      "  warnings.warn(\"Liblinear failed to converge, increase \"\n"
     ]
    },
    {
     "data": {
      "text/plain": [
       "GridSearchCV(cv=3, estimator=LinearSVR(), n_jobs=8,\n",
       "             param_grid=[{'C': array([1.00000000e-05, 2.56410257e+03, 5.12820514e+03, 7.69230770e+03,\n",
       "       1.02564103e+04, 1.28205128e+04, 1.53846154e+04, 1.79487180e+04,\n",
       "       2.05128205e+04, 2.30769231e+04, 2.56410256e+04, 2.82051282e+04,\n",
       "       3.07692308e+04, 3.33333333e+04, 3.58974359e+04, 3.84615385e+04,\n",
       "       4.10256410e+04, 4.35897436e+04, 4.61538...\n",
       "       5.12820513e-06, 5.38461538e-06, 5.64102564e-06, 5.89743590e-06,\n",
       "       6.15384615e-06, 6.41025641e-06, 6.66666667e-06, 6.92307692e-06,\n",
       "       7.17948718e-06, 7.43589744e-06, 7.69230769e-06, 7.94871795e-06,\n",
       "       8.20512821e-06, 8.46153846e-06, 8.71794872e-06, 8.97435897e-06,\n",
       "       9.23076923e-06, 9.48717949e-06, 9.74358974e-06, 1.00000000e-05]),\n",
       "                          'max_iter': [15000]}],\n",
       "             scoring='neg_mean_squared_error')"
      ]
     },
     "execution_count": 198,
     "metadata": {},
     "output_type": "execute_result"
    }
   ],
   "source": [
    "svr = LinearSVR()\n",
    "svr_params = [\n",
    "    {\n",
    "        \"C\" : np.linspace(1e-5, 1e5, 40),\n",
    "        \"epsilon\" : np.linspace(1e-20, 1e-5, 40),\n",
    "        \"max_iter\" : [15000]\n",
    "    }\n",
    "]\n",
    "search = GridSearchCV(svr, svr_params,\n",
    "                           cv = 3 ,scoring=\"neg_mean_squared_error\", n_jobs=8)\n",
    "search.fit(train_preprocessed, target_train)"
   ]
  },
  {
   "cell_type": "code",
   "execution_count": 200,
   "metadata": {},
   "outputs": [
    {
     "name": "stdout",
     "output_type": "stream",
     "text": [
      "29144.985038718543\n"
     ]
    },
    {
     "data": {
      "text/plain": [
       "{'C': 100000.0, 'epsilon': 4.102564102564109e-06, 'max_iter': 15000}"
      ]
     },
     "execution_count": 200,
     "metadata": {},
     "output_type": "execute_result"
    }
   ],
   "source": [
    "print(np.amin(np.sqrt(-search.cv_results_[\"mean_test_score\"])))\n",
    "search.best_params_"
   ]
  },
  {
   "cell_type": "code",
   "execution_count": 206,
   "metadata": {},
   "outputs": [
    {
     "data": {
      "text/plain": [
       "GridSearchCV(cv=3, estimator=LinearSVR(), n_jobs=8,\n",
       "             param_grid=[{'C': array([585019.        , 587178.25641026, 589337.51282051, 591496.76923077,\n",
       "       593656.02564103, 595815.28205128, 597974.53846154, 600133.79487179,\n",
       "       602293.05128205, 604452.30769231, 606611.56410256, 608770.82051282,\n",
       "       610930.07692308, 613089.33333333, 615248.58974359, 617407.84615385,\n",
       "       619567.1025641 , 621726.3589743...\n",
       "                          'epsilon': array([2.96000000e-06, 3.06526316e-06, 3.17052632e-06, 3.27578947e-06,\n",
       "       3.38105263e-06, 3.48631579e-06, 3.59157895e-06, 3.69684211e-06,\n",
       "       3.80210526e-06, 3.90736842e-06, 4.01263158e-06, 4.11789474e-06,\n",
       "       4.22315789e-06, 4.32842105e-06, 4.43368421e-06, 4.53894737e-06,\n",
       "       4.64421053e-06, 4.74947368e-06, 4.85473684e-06, 4.96000000e-06]),\n",
       "                          'max_iter': [15000]}],\n",
       "             scoring='neg_mean_squared_error')"
      ]
     },
     "execution_count": 206,
     "metadata": {},
     "output_type": "execute_result"
    }
   ],
   "source": [
    "svr = LinearSVR()\n",
    "svr_params = [\n",
    "    {\n",
    "        \"C\" : np.linspace(635019-50000, 619230+50000, 40),\n",
    "        \"epsilon\" : np.linspace(3.96e-6-1e-6, 3.96e-6+1e-6, 20),\n",
    "        \"max_iter\" : [15000]\n",
    "    }\n",
    "]\n",
    "search = GridSearchCV(svr, svr_params,\n",
    "                           cv = 3 ,scoring=\"neg_mean_squared_error\", n_jobs=8)\n",
    "search.fit(train_preprocessed, target_train)"
   ]
  },
  {
   "cell_type": "code",
   "execution_count": 207,
   "metadata": {},
   "outputs": [
    {
     "name": "stdout",
     "output_type": "stream",
     "text": [
      "20687.070285854075\n"
     ]
    },
    {
     "data": {
      "text/plain": [
       "{'C': 621726.358974359, 'epsilon': 2.9600000000000005e-06, 'max_iter': 15000}"
      ]
     },
     "execution_count": 207,
     "metadata": {},
     "output_type": "execute_result"
    }
   ],
   "source": [
    "print(np.amin(np.sqrt(-search.cv_results_[\"mean_test_score\"])))\n",
    "search.best_params_"
   ]
  },
  {
   "cell_type": "markdown",
   "metadata": {},
   "source": [
    "Let's get back to linear regression with polynomial features."
   ]
  },
  {
   "cell_type": "code",
   "execution_count": 228,
   "metadata": {},
   "outputs": [],
   "source": [
    "from sklearn.preprocessing import PolynomialFeatures\n",
    "\n",
    "logPoly = Pipeline([\n",
    "    (\"log\", logTransform),\n",
    "    (\"poly\", PolynomialFeatures(2))\n",
    "])\n",
    "\n",
    "sqrtPoly = Pipeline([\n",
    "    (\"sqrt\", sqrtTransform),\n",
    "    (\"poly\", PolynomialFeatures(2))\n",
    "])\n",
    "\n",
    "numPoly = Pipeline([\n",
    "    (\"num\", numericalTransform),\n",
    "    (\"poly\", PolynomialFeatures(2))\n",
    "])\n",
    "\n",
    "pipeline = ColumnTransformer([\n",
    "    (\"categorical\", OneHotEncoder(), simpleCategorical),\n",
    "    (\"explodedCategorical\", ColumnExploder(), explodedCategorical),\n",
    "    (\"replacedCategorical\", replacedSwapper, replacedCategorical),\n",
    "    (\"numerical\", numPoly, normalNumerical),\n",
    "    (\"logNumerical\", logPoly, logNumerical),\n",
    "    (\"sqrtNumerical\", sqrtPoly, sqrtNumerical)\n",
    "])"
   ]
  },
  {
   "cell_type": "code",
   "execution_count": 229,
   "metadata": {},
   "outputs": [],
   "source": [
    "train_preprocessed_poly = pipeline.fit_transform(data_train)"
   ]
  },
  {
   "cell_type": "code",
   "execution_count": 230,
   "metadata": {},
   "outputs": [
    {
     "name": "stdout",
     "output_type": "stream",
     "text": [
      "21001.086028962567\n"
     ]
    }
   ],
   "source": [
    "linreg = Ridge()\n",
    "linreg_params = {\n",
    "    \"alpha\":np.linspace(1e-20, 1e5, 50)\n",
    "}\n",
    "search = GridSearchCV(linreg, linreg_params,\n",
    "                           cv = 3, scoring = \"neg_mean_squared_error\")\n",
    "search.fit(train_preprocessed_poly, target_train)\n",
    "print(np.amin(np.sqrt(-search.cv_results_[\"mean_test_score\"])))"
   ]
  },
  {
   "cell_type": "code",
   "execution_count": 231,
   "metadata": {},
   "outputs": [
    {
     "data": {
      "text/plain": [
       "Ridge(alpha=1e-20)"
      ]
     },
     "execution_count": 231,
     "metadata": {},
     "output_type": "execute_result"
    }
   ],
   "source": [
    "search.best_estimator_"
   ]
  },
  {
   "cell_type": "markdown",
   "metadata": {},
   "source": [
    "This is probably as good as it gets. Lets train it with the SVM and evaluate on the test set for final result."
   ]
  },
  {
   "cell_type": "code",
   "execution_count": 247,
   "metadata": {},
   "outputs": [
    {
     "data": {
      "text/plain": [
       "LinearSVR(C=621726, epsilon=2.96e-06, max_iter=485000)"
      ]
     },
     "execution_count": 247,
     "metadata": {},
     "output_type": "execute_result"
    }
   ],
   "source": [
    "pipeline = ColumnTransformer([\n",
    "    (\"categorical\", categoricalEncoder, simpleCategorical),\n",
    "    (\"explodedCategorical\", ColumnExploder(), explodedCategorical),\n",
    "    (\"replacedCategorical\", replacedSwapper, replacedCategorical),\n",
    "    (\"numerical\", numericalTransform, normalNumerical),\n",
    "    (\"logNumerical\", logTransform, logNumerical),\n",
    "    (\"sqrtNumerical\", sqrtTransform, sqrtNumerical)\n",
    "])\n",
    "\n",
    "train_preprocessed = pipeline.fit_transform(data_train)\n",
    "\n",
    "svr = LinearSVR(C = 621726, epsilon= 2.96e-06, max_iter=485000)\n",
    "svr.fit(train_preprocessed, target_train)"
   ]
  },
  {
   "cell_type": "code",
   "execution_count": 248,
   "metadata": {},
   "outputs": [],
   "source": [
    "data_test_transformed = pipeline.transform(data_test)"
   ]
  },
  {
   "cell_type": "code",
   "execution_count": 250,
   "metadata": {},
   "outputs": [],
   "source": [
    "predictions = svr.predict(data_test_transformed)"
   ]
  },
  {
   "cell_type": "code",
   "execution_count": 257,
   "metadata": {},
   "outputs": [
    {
     "data": {
      "text/plain": [
       "9043.803467965496"
      ]
     },
     "execution_count": 257,
     "metadata": {},
     "output_type": "execute_result"
    }
   ],
   "source": [
    "np.sqrt(np.sum(np.square(predictions - target_data))/len(predictions))"
   ]
  },
  {
   "cell_type": "markdown",
   "metadata": {},
   "source": [
    "After training on the whole dataset the error seems to be much lower!\n",
    "Perhaps, with a gaussian SVM it would be even better. For now, this result is satisfying."
   ]
  },
  {
   "cell_type": "code",
   "execution_count": null,
   "metadata": {},
   "outputs": [],
   "source": []
  }
 ],
 "metadata": {
  "kernelspec": {
   "display_name": "Python 3",
   "language": "python",
   "name": "python3"
  },
  "language_info": {
   "codemirror_mode": {
    "name": "ipython",
    "version": 3
   },
   "file_extension": ".py",
   "mimetype": "text/x-python",
   "name": "python",
   "nbconvert_exporter": "python",
   "pygments_lexer": "ipython3",
   "version": "3.8.9"
  }
 },
 "nbformat": 4,
 "nbformat_minor": 4
}
