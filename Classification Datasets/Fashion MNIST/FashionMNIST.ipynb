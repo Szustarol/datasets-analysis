{
 "cells": [
  {
   "cell_type": "code",
   "execution_count": 1,
   "metadata": {},
   "outputs": [],
   "source": [
    "import tensorflow as tf\n",
    "import tensorflow_datasets as tfds"
   ]
  },
  {
   "cell_type": "markdown",
   "metadata": {},
   "source": [
    "Loading and splitting the dataset."
   ]
  },
  {
   "cell_type": "code",
   "execution_count": 2,
   "metadata": {},
   "outputs": [],
   "source": [
    "fashion_mnist = tfds.image_classification.FashionMNIST()"
   ]
  },
  {
   "cell_type": "code",
   "execution_count": 3,
   "metadata": {},
   "outputs": [],
   "source": [
    "dataset_train, dataset_test = fashion_mnist.as_dataset()[\"train\"], fashion_mnist.as_dataset()[\"test\"]"
   ]
  },
  {
   "cell_type": "code",
   "execution_count": 4,
   "metadata": {},
   "outputs": [],
   "source": [
    "dataset_train = dataset_train.shuffle(buffer_size=2000)"
   ]
  },
  {
   "cell_type": "code",
   "execution_count": 5,
   "metadata": {},
   "outputs": [],
   "source": [
    "dataset_size = len(dataset_train)\n",
    "train_size = int(0.7*dataset_size)\n",
    "val_size = dataset_size-train_size"
   ]
  },
  {
   "cell_type": "code",
   "execution_count": 6,
   "metadata": {},
   "outputs": [],
   "source": [
    "dataset_val = dataset_train.take(val_size)\n",
    "dataset_train = dataset_train.skip(val_size)"
   ]
  },
  {
   "cell_type": "code",
   "execution_count": 7,
   "metadata": {},
   "outputs": [],
   "source": [
    "from tensorflow.train import Feature, Features, Example\n",
    "from tensorflow.train import BytesList, FloatList, Int64List"
   ]
  },
  {
   "cell_type": "markdown",
   "metadata": {},
   "source": [
    "Let's try saving the dataset."
   ]
  },
  {
   "cell_type": "code",
   "execution_count": 8,
   "metadata": {},
   "outputs": [],
   "source": [
    "def encode_fashion_mnist(example, label):\n",
    "    \n",
    "    image = tf.io.serialize_tensor(example).numpy()\n",
    "    \n",
    "    fashion_example = Example(\n",
    "        features = Features(\n",
    "            feature = {\n",
    "                'image' : Feature(bytes_list=BytesList(value = [image])),\n",
    "                'label' : Feature(int64_list=Int64List(value = [tf.cast(label, tf.int64)]))\n",
    "            }\n",
    "        )\n",
    "    )\n",
    "    \n",
    "    return fashion_example.SerializeToString()"
   ]
  },
  {
   "cell_type": "code",
   "execution_count": 9,
   "metadata": {},
   "outputs": [],
   "source": [
    "options = tf.io.TFRecordOptions(compression_type=\"GZIP\")\n",
    "\n",
    "outputs = [\"train\", \"test\", \"val\"]\n",
    "sets = [dataset_train, dataset_test, dataset_val]\n",
    "\n",
    "for output, dataset in zip(outputs, sets):\n",
    "    filename = \"fashion_mnist_compressed_\" + output + \".tfrecord\"\n",
    "    with tf.io.TFRecordWriter(filename, options) as f:\n",
    "        for sample in dataset:\n",
    "            parsed = encode_fashion_mnist(sample[\"image\"], sample[\"label\"])\n",
    "            f.write(parsed)"
   ]
  },
  {
   "cell_type": "markdown",
   "metadata": {},
   "source": [
    "And now for the loading."
   ]
  },
  {
   "cell_type": "code",
   "execution_count": 62,
   "metadata": {},
   "outputs": [],
   "source": [
    "feature_description = {\n",
    "    \"image\" : tf.io.FixedLenFeature([], tf.string, default_value=b\"\"),\n",
    "    \"label\" : tf.io.FixedLenFeature([], tf.int64, default_value=0)\n",
    "}\n",
    "\n",
    "train_test_val = [None, None, None]\n",
    "\n",
    "for inp, (idx, _) in zip(outputs, enumerate(train_test_val)):\n",
    "    filename = \"fashion_mnist_compressed_\" + inp + \".tfrecord\"\n",
    "    dataset = tf.data.TFRecordDataset([filename], compression_type=\"GZIP\")\n",
    "    dataset = dataset.map(lambda x : tf.io.parse_single_example(x, feature_description), num_parallel_calls=8)\n",
    "    dataset = dataset.map(lambda x : (tf.io.parse_tensor(x[\"image\"], tf.uint8), x[\"label\"]), num_parallel_calls=8)\n",
    "    if idx == 0:\n",
    "        dataset = dataset.shuffle(buffer_size = 4000).repeat(10).batch(64).prefetch(2)\n",
    "    else:\n",
    "        dataset = dataset.batch(64)\n",
    "    train_test_val[idx] = dataset\n",
    "    \n",
    "dataset_train, dataset_test, dataset_val = train_test_val"
   ]
  },
  {
   "cell_type": "code",
   "execution_count": 63,
   "metadata": {},
   "outputs": [],
   "source": [
    "import tensorflow.keras as keras\n",
    "input_shape = None\n",
    "\n",
    "for sample in dataset_train.take(1):\n",
    "    input_shape = sample[0].shape[1:]"
   ]
  },
  {
   "cell_type": "code",
   "execution_count": 64,
   "metadata": {},
   "outputs": [],
   "source": [
    "input_layer = keras.layers.Input(shape=input_shape)\n",
    "flatten_layer = keras.layers.Flatten()(input_layer)\n",
    "normalization = keras.layers.LayerNormalization()(flatten_layer)\n",
    "wide_1 = keras.layers.Dense(300, activation=\"relu\")(normalization)\n",
    "wide_batch_1 = keras.layers.BatchNormalization()(wide_1)\n",
    "wide_2 = keras.layers.Dense(300, activation=\"relu\")(wide_batch_1)\n",
    "wide_batch_2 = keras.layers.BatchNormalization()(wide_2)\n",
    "deep = normalization\n",
    "for i in range(6):\n",
    "    deep = keras.layers.Dense(50, activation=\"relu\")(normalization)\n",
    "    deep = keras.layers.BatchNormalization()(deep)\n",
    "concat = keras.layers.Concatenate()([wide_batch_2, deep])\n",
    "softmax = keras.layers.Dense(10, activation=\"softmax\")(concat)\n",
    "\n",
    "model = keras.models.Model(inputs=input_layer, outputs=softmax)\n",
    "\n",
    "model.save_weights(\"temp_weights.h5\")"
   ]
  },
  {
   "cell_type": "code",
   "execution_count": 65,
   "metadata": {},
   "outputs": [],
   "source": [
    "model.compile(\n",
    "    loss = \"sparse_categorical_crossentropy\",\n",
    "    metrics = [\"sparse_categorical_accuracy\"],\n",
    "    optimizer = keras.optimizers.SGD(learning_rate=0.001)\n",
    ")"
   ]
  },
  {
   "cell_type": "code",
   "execution_count": 66,
   "metadata": {},
   "outputs": [
    {
     "name": "stdout",
     "output_type": "stream",
     "text": [
      "6563/6563 [==============================] - 26s 4ms/step - loss: 0.5133 - sparse_categorical_accuracy: 0.8225\n"
     ]
    }
   ],
   "source": [
    "history = model.fit(dataset_train, epochs=1).history"
   ]
  },
  {
   "cell_type": "markdown",
   "metadata": {},
   "source": [
    "Finding the optimal learning rate."
   ]
  },
  {
   "cell_type": "code",
   "execution_count": 67,
   "metadata": {},
   "outputs": [
    {
     "name": "stdout",
     "output_type": "stream",
     "text": [
      "[1.00000000e-10 4.39397056e-10 1.93069773e-09 8.48342898e-09\n",
      " 3.72759372e-08 1.63789371e-07 7.19685673e-07 3.16227766e-06\n",
      " 1.38949549e-05 6.10540230e-05 2.68269580e-04 1.17876863e-03\n",
      " 5.17947468e-03 2.27584593e-02 1.00000000e-01]\n"
     ]
    }
   ],
   "source": [
    "import numpy as np\n",
    "\n",
    "learning_rates = np.logspace(-10, -1, 15)\n",
    "print(learning_rates)"
   ]
  },
  {
   "cell_type": "code",
   "execution_count": 68,
   "metadata": {
    "scrolled": true
   },
   "outputs": [
    {
     "name": "stdout",
     "output_type": "stream",
     "text": [
      "6563/6563 [==============================] - 36s 5ms/step - loss: 3.2102 - sparse_categorical_accuracy: 0.0733\n",
      "6563/6563 [==============================] - 36s 5ms/step - loss: 3.2098 - sparse_categorical_accuracy: 0.0741\n",
      "6563/6563 [==============================] - 35s 5ms/step - loss: 3.2031 - sparse_categorical_accuracy: 0.0745\n",
      "6563/6563 [==============================] - 36s 5ms/step - loss: 3.1534 - sparse_categorical_accuracy: 0.0790\n",
      "6563/6563 [==============================] - 35s 5ms/step - loss: 2.9701 - sparse_categorical_accuracy: 0.1028\n",
      "6563/6563 [==============================] - 34s 5ms/step - loss: 2.3459 - sparse_categorical_accuracy: 0.2497\n",
      "6563/6563 [==============================] - 34s 5ms/step - loss: 1.3720 - sparse_categorical_accuracy: 0.5514\n",
      "6563/6563 [==============================] - 34s 5ms/step - loss: 0.7741 - sparse_categorical_accuracy: 0.7400\n",
      "6563/6563 [==============================] - 34s 5ms/step - loss: 0.4852 - sparse_categorical_accuracy: 0.8329\n",
      "6563/6563 [==============================] - 34s 5ms/step - loss: 0.3172 - sparse_categorical_accuracy: 0.8892\n",
      "6563/6563 [==============================] - 34s 5ms/step - loss: 0.2459 - sparse_categorical_accuracy: 0.9112\n",
      "6563/6563 [==============================] - 34s 5ms/step - loss: 0.2644 - sparse_categorical_accuracy: 0.9026\n",
      "6563/6563 [==============================] - 38s 6ms/step - loss: 0.2922 - sparse_categorical_accuracy: 0.8925\n",
      "6563/6563 [==============================] - 37s 5ms/step - loss: 0.3577 - sparse_categorical_accuracy: 0.8700\n",
      "6563/6563 [==============================] - 38s 6ms/step - loss: 0.7604 - sparse_categorical_accuracy: 0.8252\n"
     ]
    }
   ],
   "source": [
    "losses = []\n",
    "\n",
    "for learning_rate in learning_rates:\n",
    "    model.compile(\n",
    "        loss = \"sparse_categorical_crossentropy\",\n",
    "        metrics = [\"sparse_categorical_accuracy\"],\n",
    "        optimizer = keras.optimizers.Nadam(learning_rate=learning_rate)\n",
    "    )\n",
    "    model.load_weights(\"temp_weights.h5\")\n",
    "    loss = model.fit(dataset_train).history[\"loss\"]\n",
    "    losses.append(loss)"
   ]
  },
  {
   "cell_type": "code",
   "execution_count": 69,
   "metadata": {},
   "outputs": [
    {
     "data": {
      "image/png": "[encoded data removed]",
      "text/plain": [
       "<Figure size 432x288 with 1 Axes>"
      ]
     },
     "metadata": {
      "needs_background": "light"
     },
     "output_type": "display_data"
    }
   ],
   "source": [
    "import matplotlib.pyplot as plt\n",
    "\n",
    "plt.plot(learning_rates, losses)\n",
    "plt.xlabel(\"learning rate\")\n",
    "plt.xscale(\"log\")\n",
    "plt.ylabel(\"loss after one epoch\")\n",
    "plt.show()"
   ]
  },
  {
   "cell_type": "code",
   "execution_count": 70,
   "metadata": {},
   "outputs": [],
   "source": [
    "final_lr = 1e-3*0.7"
   ]
  },
  {
   "cell_type": "code",
   "execution_count": 71,
   "metadata": {},
   "outputs": [],
   "source": [
    "model.compile(\n",
    "    loss = \"sparse_categorical_crossentropy\",\n",
    "    metrics = [\"sparse_categorical_accuracy\"],\n",
    "    optimizer = keras.optimizers.Nadam(learning_rate=final_lr)\n",
    ")"
   ]
  },
  {
   "cell_type": "code",
   "execution_count": 72,
   "metadata": {},
   "outputs": [],
   "source": [
    "model.load_weights(\"temp_weights.h5\")"
   ]
  },
  {
   "cell_type": "code",
   "execution_count": 76,
   "metadata": {},
   "outputs": [
    {
     "name": "stdout",
     "output_type": "stream",
     "text": [
      "Epoch 1/200\n",
      "1000/1000 [==============================] - 7s 7ms/step - loss: 0.0858 - sparse_categorical_accuracy: 0.9685 - val_loss: 0.4166 - val_sparse_categorical_accuracy: 0.8947\n",
      "Epoch 2/200\n",
      "1000/1000 [==============================] - 7s 7ms/step - loss: 0.0790 - sparse_categorical_accuracy: 0.9709 - val_loss: 0.4437 - val_sparse_categorical_accuracy: 0.8971\n",
      "Epoch 3/200\n",
      "1000/1000 [==============================] - 7s 7ms/step - loss: 0.0749 - sparse_categorical_accuracy: 0.9722 - val_loss: 0.4685 - val_sparse_categorical_accuracy: 0.8932\n",
      "Epoch 4/200\n",
      "1000/1000 [==============================] - 7s 7ms/step - loss: 0.0661 - sparse_categorical_accuracy: 0.9760 - val_loss: 0.4764 - val_sparse_categorical_accuracy: 0.8953\n",
      "Epoch 5/200\n",
      "1000/1000 [==============================] - 8s 8ms/step - loss: 0.0612 - sparse_categorical_accuracy: 0.9777 - val_loss: 0.4714 - val_sparse_categorical_accuracy: 0.8974\n",
      "Epoch 6/200\n",
      "1000/1000 [==============================] - 7s 7ms/step - loss: 0.0606 - sparse_categorical_accuracy: 0.9771 - val_loss: 0.4950 - val_sparse_categorical_accuracy: 0.8920\n",
      "Epoch 7/200\n",
      "1000/1000 [==============================] - 7s 7ms/step - loss: 0.0522 - sparse_categorical_accuracy: 0.9807 - val_loss: 0.5113 - val_sparse_categorical_accuracy: 0.8927\n",
      "Epoch 8/200\n",
      "1000/1000 [==============================] - 6s 6ms/step - loss: 0.0516 - sparse_categorical_accuracy: 0.9809 - val_loss: 0.5266 - val_sparse_categorical_accuracy: 0.8948\n",
      "Epoch 9/200\n",
      "1000/1000 [==============================] - 6s 6ms/step - loss: 0.0484 - sparse_categorical_accuracy: 0.9821 - val_loss: 0.5463 - val_sparse_categorical_accuracy: 0.8885\n",
      "Epoch 10/200\n",
      "1000/1000 [==============================] - 7s 7ms/step - loss: 0.0465 - sparse_categorical_accuracy: 0.9831 - val_loss: 0.5343 - val_sparse_categorical_accuracy: 0.8902\n",
      "Epoch 11/200\n",
      "1000/1000 [==============================] - 7s 7ms/step - loss: 0.0402 - sparse_categorical_accuracy: 0.9856 - val_loss: 0.5344 - val_sparse_categorical_accuracy: 0.8942\n",
      "Epoch 12/200\n",
      "1000/1000 [==============================] - 6s 6ms/step - loss: 0.0395 - sparse_categorical_accuracy: 0.9849 - val_loss: 0.5477 - val_sparse_categorical_accuracy: 0.8988\n",
      "Epoch 13/200\n",
      "1000/1000 [==============================] - 7s 7ms/step - loss: 0.0412 - sparse_categorical_accuracy: 0.9850 - val_loss: 0.5516 - val_sparse_categorical_accuracy: 0.8943\n",
      "Epoch 14/200\n",
      "1000/1000 [==============================] - 7s 7ms/step - loss: 0.0368 - sparse_categorical_accuracy: 0.9865 - val_loss: 0.5714 - val_sparse_categorical_accuracy: 0.8937\n",
      "Epoch 15/200\n",
      "1000/1000 [==============================] - 6s 6ms/step - loss: 0.0361 - sparse_categorical_accuracy: 0.9872 - val_loss: 0.5592 - val_sparse_categorical_accuracy: 0.8942\n",
      "Epoch 16/200\n",
      "1000/1000 [==============================] - 7s 7ms/step - loss: 0.0334 - sparse_categorical_accuracy: 0.9882 - val_loss: 0.5872 - val_sparse_categorical_accuracy: 0.8938\n",
      "Epoch 17/200\n",
      "1000/1000 [==============================] - 7s 7ms/step - loss: 0.0343 - sparse_categorical_accuracy: 0.9876 - val_loss: 0.5873 - val_sparse_categorical_accuracy: 0.8957\n",
      "Epoch 18/200\n",
      "1000/1000 [==============================] - 7s 7ms/step - loss: 0.0321 - sparse_categorical_accuracy: 0.9880 - val_loss: 0.5905 - val_sparse_categorical_accuracy: 0.8960\n",
      "Epoch 19/200\n",
      "1000/1000 [==============================] - 6s 6ms/step - loss: 0.0286 - sparse_categorical_accuracy: 0.9902 - val_loss: 0.5968 - val_sparse_categorical_accuracy: 0.8992\n",
      "Epoch 20/200\n",
      "1000/1000 [==============================] - 7s 7ms/step - loss: 0.0301 - sparse_categorical_accuracy: 0.9890 - val_loss: 0.6096 - val_sparse_categorical_accuracy: 0.8967\n",
      "Epoch 21/200\n",
      "1000/1000 [==============================] - 6s 6ms/step - loss: 0.0260 - sparse_categorical_accuracy: 0.9905 - val_loss: 0.6355 - val_sparse_categorical_accuracy: 0.8950\n"
     ]
    },
    {
     "data": {
      "text/plain": [
       "<tensorflow.python.keras.callbacks.History at 0x7fbcfc47d2e0>"
      ]
     },
     "execution_count": 76,
     "metadata": {},
     "output_type": "execute_result"
    }
   ],
   "source": [
    "dataset_train = dataset_train.repeat(200//6)\n",
    "\n",
    "model.fit(dataset_train, validation_data=dataset_val, steps_per_epoch = 1000,\n",
    "         epochs = 200, callbacks=[keras.callbacks.EarlyStopping(patience=20, restore_best_weights=True)])"
   ]
  },
  {
   "cell_type": "code",
   "execution_count": 77,
   "metadata": {},
   "outputs": [
    {
     "name": "stdout",
     "output_type": "stream",
     "text": [
      "157/157 [==============================] - 0s 3ms/step - loss: 0.4662 - sparse_categorical_accuracy: 0.8879\n"
     ]
    },
    {
     "data": {
      "text/plain": [
       "[0.4661714434623718, 0.8878999948501587]"
      ]
     },
     "execution_count": 77,
     "metadata": {},
     "output_type": "execute_result"
    }
   ],
   "source": [
    "model.evaluate(dataset_test)"
   ]
  },
  {
   "cell_type": "code",
   "execution_count": null,
   "metadata": {},
   "outputs": [],
   "source": []
  }
 ],
 "metadata": {
  "kernelspec": {
   "display_name": "Python 3",
   "language": "python",
   "name": "python3"
  },
  "language_info": {
   "codemirror_mode": {
    "name": "ipython",
    "version": 3
   },
   "file_extension": ".py",
   "mimetype": "text/x-python",
   "name": "python",
   "nbconvert_exporter": "python",
   "pygments_lexer": "ipython3",
   "version": "3.8.10"
  }
 },
 "nbformat": 4,
 "nbformat_minor": 4
}
