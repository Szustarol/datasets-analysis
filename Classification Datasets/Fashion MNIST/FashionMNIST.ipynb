{
 "cells": [
  {
   "cell_type": "code",
   "execution_count": 408,
   "metadata": {},
   "outputs": [],
   "source": [
    "import tensorflow as tf\n",
    "import tensorflow_datasets as tfds"
   ]
  },
  {
   "cell_type": "markdown",
   "metadata": {},
   "source": [
    "Loading and splitting the dataset."
   ]
  },
  {
   "cell_type": "code",
   "execution_count": 409,
   "metadata": {},
   "outputs": [],
   "source": [
    "fashion_mnist = tfds.image_classification.FashionMNIST()"
   ]
  },
  {
   "cell_type": "code",
   "execution_count": 410,
   "metadata": {},
   "outputs": [],
   "source": [
    "dataset_train, dataset_test = fashion_mnist.as_dataset()[\"train\"], fashion_mnist.as_dataset()[\"test\"]"
   ]
  },
  {
   "cell_type": "code",
   "execution_count": 411,
   "metadata": {},
   "outputs": [],
   "source": [
    "dataset_train = dataset_train.shuffle(buffer_size=2000)"
   ]
  },
  {
   "cell_type": "code",
   "execution_count": 412,
   "metadata": {},
   "outputs": [],
   "source": [
    "dataset_size = len(dataset_train)\n",
    "train_size = int(0.7*dataset_size)\n",
    "val_size = dataset_size-train_size"
   ]
  },
  {
   "cell_type": "code",
   "execution_count": 413,
   "metadata": {},
   "outputs": [],
   "source": [
    "dataset_val = dataset_train.take(val_size)\n",
    "dataset_train = dataset_train.skip(val_size)"
   ]
  },
  {
   "cell_type": "code",
   "execution_count": 415,
   "metadata": {},
   "outputs": [],
   "source": [
    "from tensorflow.train import Feature, Features, Example\n",
    "from tensorflow.train import BytesList, FloatList, Int64List"
   ]
  },
  {
   "cell_type": "markdown",
   "metadata": {},
   "source": [
    "Let's try saving the dataset."
   ]
  },
  {
   "cell_type": "code",
   "execution_count": 418,
   "metadata": {},
   "outputs": [],
   "source": [
    "def encode_fashion_mnist(example, label):\n",
    "    \n",
    "    image = tf.io.serialize_tensor(example).numpy()\n",
    "    \n",
    "    fashion_example = Example(\n",
    "        features = Features(\n",
    "            feature = {\n",
    "                'image' : Feature(bytes_list=BytesList(value = [image])),\n",
    "                'label' : Feature(int64_list=Int64List(value = [tf.cast(label, tf.int64)]))\n",
    "            }\n",
    "        )\n",
    "    )\n",
    "    \n",
    "    return fashion_example.SerializeToString()"
   ]
  },
  {
   "cell_type": "code",
   "execution_count": 419,
   "metadata": {},
   "outputs": [],
   "source": [
    "options = tf.io.TFRecordOptions(compression_type=\"GZIP\")\n",
    "\n",
    "outputs = [\"train\", \"test\", \"val\"]\n",
    "sets = [dataset_train, dataset_test, dataset_val]\n",
    "\n",
    "for output, dataset in zip(outputs, sets):\n",
    "    filename = \"fashion_mnist_compressed_\" + output + \".tfrecord\"\n",
    "    with tf.io.TFRecordWriter(filename, options) as f:\n",
    "        for sample in dataset:\n",
    "            parsed = encode_fashion_mnist(sample[\"image\"], sample[\"label\"])\n",
    "            f.write(parsed)"
   ]
  },
  {
   "cell_type": "markdown",
   "metadata": {},
   "source": [
    "And now for the loading."
   ]
  },
  {
   "cell_type": "code",
   "execution_count": 426,
   "metadata": {},
   "outputs": [],
   "source": [
    "feature_description = {\n",
    "    \"image\" : tf.io.FixedLenFeature([], tf.string, default_value=b\"\"),\n",
    "    \"label\" : tf.io.FixedLenFeature([], tf.int64, default_value=0)\n",
    "}\n",
    "\n",
    "train_test_val = [None, None, None]\n",
    "\n",
    "for inp, (idx, _) in zip(outputs, enumerate(train_test_val)):\n",
    "    filename = \"fashion_mnist_compressed_\" + output + \".tfrecord\"\n",
    "    dataset = tf.data.TFRecordDataset([filename], compression_type=\"GZIP\")\n",
    "    dataset = dataset.map(lambda x : tf.io.parse_single_example(x, feature_description), num_parallel_calls=8)\n",
    "    dataset = dataset.map(lambda x : (tf.io.parse_tensor(x[\"image\"], tf.uint8), x[\"label\"]), num_parallel_calls=8)\n",
    "    dataset = dataset.shuffle(buffer_size = 4000).batch(64).prefetch(2).repeat(10)\n",
    "    train_test_val[idx] = dataset\n",
    "    \n",
    "dataset_train, dataset_test, dataset_val = train_test_val"
   ]
  },
  {
   "cell_type": "code",
   "execution_count": 436,
   "metadata": {},
   "outputs": [],
   "source": [
    "input_shape = None\n",
    "\n",
    "for sample in dataset_train.take(1):\n",
    "    input_shape = sample[0].shape[1:]"
   ]
  },
  {
   "cell_type": "code",
   "execution_count": 448,
   "metadata": {},
   "outputs": [],
   "source": [
    "input_layer = keras.layers.Input(shape=input_shape)\n",
    "flatten_layer = keras.layers.Flatten()(input_layer)\n",
    "normalization = keras.layers.LayerNormalization()(flatten_layer)\n",
    "wide_1 = keras.layers.Dense(300, activation=\"relu\")(normalization)\n",
    "wide_batch_1 = keras.layers.BatchNormalization()(wide_1)\n",
    "wide_2 = keras.layers.Dense(300, activation=\"relu\")(wide_batch_1)\n",
    "wide_batch_2 = keras.layers.BatchNormalization()(wide_2)\n",
    "deep = normalization\n",
    "for i in range(6):\n",
    "    deep = keras.layers.Dense(50, activation=\"relu\")(normalization)\n",
    "    deep = keras.layers.BatchNormalization()(deep)\n",
    "concat = keras.layers.Concatenate()([wide_batch_2, deep])\n",
    "softmax = keras.layers.Dense(10, activation=\"softmax\")(concat)\n",
    "\n",
    "model = keras.models.Model(inputs=input_layer, outputs=softmax)\n",
    "\n",
    "model.save_weights(\"temp_weights.h5\")"
   ]
  },
  {
   "cell_type": "code",
   "execution_count": 449,
   "metadata": {},
   "outputs": [],
   "source": [
    "model.compile(\n",
    "    loss = \"sparse_categorical_crossentropy\",\n",
    "    metrics = [\"sparse_categorical_accuracy\"],\n",
    "    optimizer = keras.optimizers.SGD(learning_rate=0.001)\n",
    ")"
   ]
  },
  {
   "cell_type": "code",
   "execution_count": 444,
   "metadata": {},
   "outputs": [
    {
     "name": "stdout",
     "output_type": "stream",
     "text": [
      "2820/2820 [==============================] - 11s 4ms/step - loss: 0.4232 - sparse_categorical_accuracy: 0.8524\n"
     ]
    }
   ],
   "source": [
    "history = model.fit(dataset_train, epochs=1).history"
   ]
  },
  {
   "cell_type": "markdown",
   "metadata": {},
   "source": [
    "Finding the optimal learning rate."
   ]
  },
  {
   "cell_type": "code",
   "execution_count": 452,
   "metadata": {},
   "outputs": [
    {
     "name": "stdout",
     "output_type": "stream",
     "text": [
      "[1.00000000e-10 4.39397056e-10 1.93069773e-09 8.48342898e-09\n",
      " 3.72759372e-08 1.63789371e-07 7.19685673e-07 3.16227766e-06\n",
      " 1.38949549e-05 6.10540230e-05 2.68269580e-04 1.17876863e-03\n",
      " 5.17947468e-03 2.27584593e-02 1.00000000e-01]\n"
     ]
    }
   ],
   "source": [
    "import numpy as np\n",
    "\n",
    "learning_rates = np.logspace(-10, -1, 15)\n",
    "print(learning_rates)"
   ]
  },
  {
   "cell_type": "code",
   "execution_count": 453,
   "metadata": {
    "scrolled": true
   },
   "outputs": [
    {
     "name": "stdout",
     "output_type": "stream",
     "text": [
      "2820/2820 [==============================] - 16s 5ms/step - loss: 2.9215 - sparse_categorical_accuracy: 0.1113\n",
      "2820/2820 [==============================] - 16s 5ms/step - loss: 2.9227 - sparse_categorical_accuracy: 0.1124\n",
      "2820/2820 [==============================] - 16s 5ms/step - loss: 2.9195 - sparse_categorical_accuracy: 0.1119\n",
      "2820/2820 [==============================] - 16s 5ms/step - loss: 2.8997 - sparse_categorical_accuracy: 0.1144\n",
      "2820/2820 [==============================] - 16s 5ms/step - loss: 2.8297 - sparse_categorical_accuracy: 0.1248\n",
      "2820/2820 [==============================] - 16s 5ms/step - loss: 2.5500 - sparse_categorical_accuracy: 0.1795\n",
      "2820/2820 [==============================] - 16s 5ms/step - loss: 1.8084 - sparse_categorical_accuracy: 0.4000\n",
      "2820/2820 [==============================] - 16s 5ms/step - loss: 1.0320 - sparse_categorical_accuracy: 0.6549\n",
      "2820/2820 [==============================] - 16s 5ms/step - loss: 0.6073 - sparse_categorical_accuracy: 0.7924\n",
      "2820/2820 [==============================] - 16s 5ms/step - loss: 0.3717 - sparse_categorical_accuracy: 0.8727\n",
      "2820/2820 [==============================] - 16s 5ms/step - loss: 0.2511 - sparse_categorical_accuracy: 0.9132\n",
      "2820/2820 [==============================] - 16s 5ms/step - loss: 0.2782 - sparse_categorical_accuracy: 0.8981\n",
      "2820/2820 [==============================] - 16s 5ms/step - loss: 0.3168 - sparse_categorical_accuracy: 0.8834\n",
      "2820/2820 [==============================] - 16s 5ms/step - loss: 0.3981 - sparse_categorical_accuracy: 0.8561\n",
      "2820/2820 [==============================] - 16s 5ms/step - loss: 0.8634 - sparse_categorical_accuracy: 0.8186\n"
     ]
    }
   ],
   "source": [
    "losses = []\n",
    "\n",
    "for learning_rate in learning_rates:\n",
    "    model.compile(\n",
    "        loss = \"sparse_categorical_crossentropy\",\n",
    "        metrics = [\"sparse_categorical_accuracy\"],\n",
    "        optimizer = keras.optimizers.Nadam(learning_rate=learning_rate)\n",
    "    )\n",
    "    model.load_weights(\"temp_weights.h5\")\n",
    "    loss = model.fit(dataset_train).history[\"loss\"]\n",
    "    losses.append(loss)"
   ]
  },
  {
   "cell_type": "code",
   "execution_count": 455,
   "metadata": {},
   "outputs": [
    {
     "data": {
      "image/png": "[encoded data removed]",
      "text/plain": [
       "<Figure size 432x288 with 1 Axes>"
      ]
     },
     "metadata": {
      "needs_background": "light"
     },
     "output_type": "display_data"
    }
   ],
   "source": [
    "import matplotlib.pyplot as plt\n",
    "\n",
    "plt.plot(learning_rates, losses)\n",
    "plt.xlabel(\"learning rate\")\n",
    "plt.xscale(\"log\")\n",
    "plt.ylabel(\"loss after one epoch\")\n",
    "plt.show()"
   ]
  },
  {
   "cell_type": "code",
   "execution_count": 456,
   "metadata": {},
   "outputs": [],
   "source": [
    "final_lr = 1e-3*0.7"
   ]
  },
  {
   "cell_type": "code",
   "execution_count": 457,
   "metadata": {},
   "outputs": [],
   "source": [
    "model.compile(\n",
    "    loss = \"sparse_categorical_crossentropy\",\n",
    "    metrics = [\"sparse_categorical_accuracy\"],\n",
    "    optimizer = keras.optimizers.Nadam(learning_rate=final_lr)\n",
    ")"
   ]
  },
  {
   "cell_type": "code",
   "execution_count": 458,
   "metadata": {},
   "outputs": [],
   "source": [
    "model.load_weights(\"temp_weights.h5\")"
   ]
  },
  {
   "cell_type": "code",
   "execution_count": 459,
   "metadata": {},
   "outputs": [
    {
     "name": "stdout",
     "output_type": "stream",
     "text": [
      "Epoch 1/200\n",
      "2820/2820 [==============================] - 22s 7ms/step - loss: 0.2649 - sparse_categorical_accuracy: 0.9040 - val_loss: 0.2229 - val_sparse_categorical_accuracy: 0.9170\n",
      "Epoch 2/200\n",
      "2820/2820 [==============================] - 21s 7ms/step - loss: 0.1124 - sparse_categorical_accuracy: 0.9589 - val_loss: 0.0965 - val_sparse_categorical_accuracy: 0.9648\n",
      "Epoch 3/200\n",
      "2820/2820 [==============================] - 21s 7ms/step - loss: 0.0603 - sparse_categorical_accuracy: 0.9789 - val_loss: 0.0611 - val_sparse_categorical_accuracy: 0.9782\n",
      "Epoch 4/200\n",
      "2820/2820 [==============================] - 20s 7ms/step - loss: 0.0407 - sparse_categorical_accuracy: 0.9858 - val_loss: 0.0269 - val_sparse_categorical_accuracy: 0.9916\n",
      "Epoch 5/200\n",
      "2820/2820 [==============================] - 20s 7ms/step - loss: 0.0278 - sparse_categorical_accuracy: 0.9903 - val_loss: 0.0147 - val_sparse_categorical_accuracy: 0.9956\n",
      "Epoch 6/200\n",
      "2820/2820 [==============================] - 20s 7ms/step - loss: 0.0241 - sparse_categorical_accuracy: 0.9915 - val_loss: 0.0209 - val_sparse_categorical_accuracy: 0.9930\n",
      "Epoch 7/200\n",
      "2820/2820 [==============================] - 20s 7ms/step - loss: 0.0186 - sparse_categorical_accuracy: 0.9935 - val_loss: 0.0116 - val_sparse_categorical_accuracy: 0.9966\n",
      "Epoch 8/200\n",
      "2820/2820 [==============================] - 20s 7ms/step - loss: 0.0175 - sparse_categorical_accuracy: 0.9940 - val_loss: 0.0089 - val_sparse_categorical_accuracy: 0.9972\n",
      "Epoch 9/200\n",
      "2820/2820 [==============================] - 20s 7ms/step - loss: 0.0136 - sparse_categorical_accuracy: 0.9955 - val_loss: 0.0097 - val_sparse_categorical_accuracy: 0.9967\n",
      "Epoch 10/200\n",
      "2820/2820 [==============================] - 20s 7ms/step - loss: 0.0139 - sparse_categorical_accuracy: 0.9954 - val_loss: 0.0063 - val_sparse_categorical_accuracy: 0.9980\n",
      "Epoch 11/200\n",
      "2820/2820 [==============================] - 20s 7ms/step - loss: 0.0122 - sparse_categorical_accuracy: 0.9959 - val_loss: 0.0036 - val_sparse_categorical_accuracy: 0.9991\n",
      "Epoch 12/200\n",
      "2820/2820 [==============================] - 21s 7ms/step - loss: 0.0103 - sparse_categorical_accuracy: 0.9966 - val_loss: 0.0051 - val_sparse_categorical_accuracy: 0.9983\n",
      "Epoch 13/200\n",
      "2820/2820 [==============================] - 20s 7ms/step - loss: 0.0089 - sparse_categorical_accuracy: 0.9971 - val_loss: 0.0071 - val_sparse_categorical_accuracy: 0.9975\n",
      "Epoch 14/200\n",
      "2820/2820 [==============================] - 21s 7ms/step - loss: 0.0088 - sparse_categorical_accuracy: 0.9971 - val_loss: 0.0063 - val_sparse_categorical_accuracy: 0.9981\n",
      "Epoch 15/200\n",
      "2820/2820 [==============================] - 21s 7ms/step - loss: 0.0093 - sparse_categorical_accuracy: 0.9968 - val_loss: 0.0021 - val_sparse_categorical_accuracy: 0.9993\n",
      "Epoch 16/200\n",
      "2820/2820 [==============================] - 21s 7ms/step - loss: 0.0091 - sparse_categorical_accuracy: 0.9970 - val_loss: 0.0050 - val_sparse_categorical_accuracy: 0.9988\n",
      "Epoch 17/200\n",
      "2820/2820 [==============================] - 21s 7ms/step - loss: 0.0079 - sparse_categorical_accuracy: 0.9974 - val_loss: 0.0012 - val_sparse_categorical_accuracy: 0.9997\n",
      "Epoch 18/200\n",
      "2820/2820 [==============================] - 21s 7ms/step - loss: 0.0076 - sparse_categorical_accuracy: 0.9975 - val_loss: 0.0021 - val_sparse_categorical_accuracy: 0.9993\n",
      "Epoch 19/200\n",
      "2820/2820 [==============================] - 21s 7ms/step - loss: 0.0061 - sparse_categorical_accuracy: 0.9981 - val_loss: 0.0022 - val_sparse_categorical_accuracy: 0.9992\n",
      "Epoch 20/200\n",
      "2820/2820 [==============================] - 21s 7ms/step - loss: 0.0071 - sparse_categorical_accuracy: 0.9976 - val_loss: 0.0071 - val_sparse_categorical_accuracy: 0.9982\n",
      "Epoch 21/200\n",
      "2820/2820 [==============================] - 20s 7ms/step - loss: 0.0061 - sparse_categorical_accuracy: 0.9983 - val_loss: 0.0057 - val_sparse_categorical_accuracy: 0.9985\n",
      "Epoch 22/200\n",
      "2820/2820 [==============================] - 20s 7ms/step - loss: 0.0060 - sparse_categorical_accuracy: 0.9980 - val_loss: 0.0069 - val_sparse_categorical_accuracy: 0.9982\n",
      "Epoch 23/200\n",
      "2820/2820 [==============================] - 21s 7ms/step - loss: 0.0052 - sparse_categorical_accuracy: 0.9984 - val_loss: 0.0029 - val_sparse_categorical_accuracy: 0.9992\n",
      "Epoch 24/200\n",
      "2820/2820 [==============================] - 21s 7ms/step - loss: 0.0039 - sparse_categorical_accuracy: 0.9987 - val_loss: 9.0116e-04 - val_sparse_categorical_accuracy: 0.9997\n",
      "Epoch 25/200\n",
      "2820/2820 [==============================] - 20s 7ms/step - loss: 0.0071 - sparse_categorical_accuracy: 0.9979 - val_loss: 0.0023 - val_sparse_categorical_accuracy: 0.9993\n",
      "Epoch 26/200\n",
      "2820/2820 [==============================] - 20s 7ms/step - loss: 0.0039 - sparse_categorical_accuracy: 0.9987 - val_loss: 1.3973e-04 - val_sparse_categorical_accuracy: 1.0000\n",
      "Epoch 27/200\n",
      "2820/2820 [==============================] - 21s 7ms/step - loss: 0.0043 - sparse_categorical_accuracy: 0.9987 - val_loss: 0.0035 - val_sparse_categorical_accuracy: 0.9991\n",
      "Epoch 28/200\n",
      "2820/2820 [==============================] - 21s 7ms/step - loss: 0.0054 - sparse_categorical_accuracy: 0.9983 - val_loss: 5.7544e-04 - val_sparse_categorical_accuracy: 0.9998\n",
      "Epoch 29/200\n",
      "2820/2820 [==============================] - 21s 7ms/step - loss: 0.0055 - sparse_categorical_accuracy: 0.9983 - val_loss: 2.0879e-04 - val_sparse_categorical_accuracy: 1.0000\n",
      "Epoch 30/200\n",
      "2820/2820 [==============================] - 21s 7ms/step - loss: 0.0029 - sparse_categorical_accuracy: 0.9991 - val_loss: 3.8650e-04 - val_sparse_categorical_accuracy: 0.9999\n",
      "Epoch 31/200\n",
      "2820/2820 [==============================] - 21s 7ms/step - loss: 0.0052 - sparse_categorical_accuracy: 0.9984 - val_loss: 4.4642e-05 - val_sparse_categorical_accuracy: 1.0000\n",
      "Epoch 32/200\n",
      "2820/2820 [==============================] - 21s 7ms/step - loss: 0.0040 - sparse_categorical_accuracy: 0.9988 - val_loss: 0.0013 - val_sparse_categorical_accuracy: 0.9996\n",
      "Epoch 33/200\n",
      "2820/2820 [==============================] - 21s 7ms/step - loss: 0.0041 - sparse_categorical_accuracy: 0.9988 - val_loss: 0.0046 - val_sparse_categorical_accuracy: 0.9986\n",
      "Epoch 34/200\n",
      "2820/2820 [==============================] - 21s 7ms/step - loss: 0.0047 - sparse_categorical_accuracy: 0.9985 - val_loss: 7.3261e-04 - val_sparse_categorical_accuracy: 0.9998\n",
      "Epoch 35/200\n",
      "2820/2820 [==============================] - 21s 7ms/step - loss: 0.0026 - sparse_categorical_accuracy: 0.9992 - val_loss: 8.0068e-04 - val_sparse_categorical_accuracy: 0.9997\n",
      "Epoch 36/200\n",
      "2820/2820 [==============================] - 21s 7ms/step - loss: 0.0039 - sparse_categorical_accuracy: 0.9988 - val_loss: 1.7721e-04 - val_sparse_categorical_accuracy: 0.9999\n",
      "Epoch 37/200\n",
      "2820/2820 [==============================] - 21s 7ms/step - loss: 0.0030 - sparse_categorical_accuracy: 0.9991 - val_loss: 4.3165e-04 - val_sparse_categorical_accuracy: 0.9999\n",
      "Epoch 38/200\n",
      "2820/2820 [==============================] - 21s 7ms/step - loss: 0.0036 - sparse_categorical_accuracy: 0.9988 - val_loss: 0.0015 - val_sparse_categorical_accuracy: 0.9995\n",
      "Epoch 39/200\n",
      "2820/2820 [==============================] - 21s 7ms/step - loss: 0.0031 - sparse_categorical_accuracy: 0.9990 - val_loss: 3.4318e-04 - val_sparse_categorical_accuracy: 0.9999\n",
      "Epoch 40/200\n",
      "2820/2820 [==============================] - 21s 7ms/step - loss: 0.0042 - sparse_categorical_accuracy: 0.9987 - val_loss: 0.0014 - val_sparse_categorical_accuracy: 0.9996\n",
      "Epoch 41/200\n",
      "2820/2820 [==============================] - 21s 7ms/step - loss: 0.0026 - sparse_categorical_accuracy: 0.9992 - val_loss: 4.4403e-04 - val_sparse_categorical_accuracy: 0.9998\n",
      "Epoch 42/200\n",
      "2820/2820 [==============================] - 21s 7ms/step - loss: 0.0037 - sparse_categorical_accuracy: 0.9989 - val_loss: 2.5299e-05 - val_sparse_categorical_accuracy: 1.0000\n",
      "Epoch 43/200\n",
      "2820/2820 [==============================] - 21s 7ms/step - loss: 0.0031 - sparse_categorical_accuracy: 0.9990 - val_loss: 3.1942e-04 - val_sparse_categorical_accuracy: 0.9999\n",
      "Epoch 44/200\n",
      "2820/2820 [==============================] - 21s 7ms/step - loss: 0.0033 - sparse_categorical_accuracy: 0.9990 - val_loss: 0.0019 - val_sparse_categorical_accuracy: 0.9992\n",
      "Epoch 45/200\n"
     ]
    },
    {
     "name": "stdout",
     "output_type": "stream",
     "text": [
      "2820/2820 [==============================] - 21s 7ms/step - loss: 0.0032 - sparse_categorical_accuracy: 0.9991 - val_loss: 0.0012 - val_sparse_categorical_accuracy: 0.9997\n",
      "Epoch 46/200\n",
      "2820/2820 [==============================] - 20s 7ms/step - loss: 0.0031 - sparse_categorical_accuracy: 0.9990 - val_loss: 9.7869e-04 - val_sparse_categorical_accuracy: 0.9997\n",
      "Epoch 47/200\n",
      "2820/2820 [==============================] - 20s 7ms/step - loss: 0.0030 - sparse_categorical_accuracy: 0.9991 - val_loss: 0.0079 - val_sparse_categorical_accuracy: 0.9972\n",
      "Epoch 48/200\n",
      "2820/2820 [==============================] - 21s 7ms/step - loss: 0.0028 - sparse_categorical_accuracy: 0.9991 - val_loss: 4.8658e-04 - val_sparse_categorical_accuracy: 0.9998\n",
      "Epoch 49/200\n",
      "2820/2820 [==============================] - 20s 7ms/step - loss: 0.0027 - sparse_categorical_accuracy: 0.9992 - val_loss: 0.0024 - val_sparse_categorical_accuracy: 0.9995\n",
      "Epoch 50/200\n",
      "2820/2820 [==============================] - 21s 7ms/step - loss: 0.0025 - sparse_categorical_accuracy: 0.9992 - val_loss: 0.0018 - val_sparse_categorical_accuracy: 0.9997\n",
      "Epoch 51/200\n",
      "2820/2820 [==============================] - 20s 7ms/step - loss: 0.0027 - sparse_categorical_accuracy: 0.9991 - val_loss: 4.4367e-04 - val_sparse_categorical_accuracy: 0.9999\n",
      "Epoch 52/200\n",
      "2820/2820 [==============================] - 21s 7ms/step - loss: 0.0024 - sparse_categorical_accuracy: 0.9993 - val_loss: 6.4750e-04 - val_sparse_categorical_accuracy: 0.9998\n",
      "Epoch 53/200\n",
      "2820/2820 [==============================] - 20s 7ms/step - loss: 0.0032 - sparse_categorical_accuracy: 0.9990 - val_loss: 0.0012 - val_sparse_categorical_accuracy: 0.9997\n",
      "Epoch 54/200\n",
      "2820/2820 [==============================] - 21s 7ms/step - loss: 0.0026 - sparse_categorical_accuracy: 0.9991 - val_loss: 0.0032 - val_sparse_categorical_accuracy: 0.9991\n",
      "Epoch 55/200\n",
      "2820/2820 [==============================] - 21s 7ms/step - loss: 0.0024 - sparse_categorical_accuracy: 0.9993 - val_loss: 4.8866e-05 - val_sparse_categorical_accuracy: 1.0000\n",
      "Epoch 56/200\n",
      "2820/2820 [==============================] - 21s 7ms/step - loss: 0.0022 - sparse_categorical_accuracy: 0.9994 - val_loss: 1.0367e-05 - val_sparse_categorical_accuracy: 1.0000\n",
      "Epoch 57/200\n",
      "2820/2820 [==============================] - 20s 7ms/step - loss: 0.0031 - sparse_categorical_accuracy: 0.9991 - val_loss: 1.4994e-04 - val_sparse_categorical_accuracy: 0.9999\n",
      "Epoch 58/200\n",
      "2820/2820 [==============================] - 21s 7ms/step - loss: 0.0024 - sparse_categorical_accuracy: 0.9992 - val_loss: 2.8032e-04 - val_sparse_categorical_accuracy: 0.9999\n",
      "Epoch 59/200\n",
      "2820/2820 [==============================] - 21s 7ms/step - loss: 0.0023 - sparse_categorical_accuracy: 0.9993 - val_loss: 3.2155e-04 - val_sparse_categorical_accuracy: 0.9999\n",
      "Epoch 60/200\n",
      "2820/2820 [==============================] - 21s 7ms/step - loss: 0.0024 - sparse_categorical_accuracy: 0.9992 - val_loss: 1.4822e-04 - val_sparse_categorical_accuracy: 0.9999\n",
      "Epoch 61/200\n",
      "2820/2820 [==============================] - 21s 7ms/step - loss: 0.0021 - sparse_categorical_accuracy: 0.9994 - val_loss: 1.6891e-05 - val_sparse_categorical_accuracy: 1.0000\n",
      "Epoch 62/200\n",
      "2820/2820 [==============================] - 21s 7ms/step - loss: 0.0027 - sparse_categorical_accuracy: 0.9992 - val_loss: 1.7382e-05 - val_sparse_categorical_accuracy: 1.0000\n",
      "Epoch 63/200\n",
      "2820/2820 [==============================] - 21s 7ms/step - loss: 0.0026 - sparse_categorical_accuracy: 0.9993 - val_loss: 7.6386e-04 - val_sparse_categorical_accuracy: 0.9997\n",
      "Epoch 64/200\n",
      "2820/2820 [==============================] - 20s 7ms/step - loss: 0.0026 - sparse_categorical_accuracy: 0.9992 - val_loss: 1.7898e-04 - val_sparse_categorical_accuracy: 0.9999\n",
      "Epoch 65/200\n",
      "2820/2820 [==============================] - 20s 7ms/step - loss: 0.0024 - sparse_categorical_accuracy: 0.9993 - val_loss: 1.2614e-04 - val_sparse_categorical_accuracy: 0.9999\n",
      "Epoch 66/200\n",
      "2820/2820 [==============================] - 20s 7ms/step - loss: 0.0024 - sparse_categorical_accuracy: 0.9993 - val_loss: 0.0027 - val_sparse_categorical_accuracy: 0.9991\n",
      "Epoch 67/200\n",
      "2820/2820 [==============================] - 21s 7ms/step - loss: 0.0030 - sparse_categorical_accuracy: 0.9992 - val_loss: 0.0018 - val_sparse_categorical_accuracy: 0.9995\n",
      "Epoch 68/200\n",
      "2820/2820 [==============================] - 20s 7ms/step - loss: 0.0022 - sparse_categorical_accuracy: 0.9993 - val_loss: 5.5932e-04 - val_sparse_categorical_accuracy: 0.9999\n",
      "Epoch 69/200\n",
      "2820/2820 [==============================] - 21s 7ms/step - loss: 0.0027 - sparse_categorical_accuracy: 0.9992 - val_loss: 1.7277e-04 - val_sparse_categorical_accuracy: 0.9999\n",
      "Epoch 70/200\n",
      "2820/2820 [==============================] - 20s 7ms/step - loss: 0.0019 - sparse_categorical_accuracy: 0.9993 - val_loss: 2.2900e-04 - val_sparse_categorical_accuracy: 0.9999\n",
      "Epoch 71/200\n",
      "2820/2820 [==============================] - 21s 7ms/step - loss: 0.0020 - sparse_categorical_accuracy: 0.9995 - val_loss: 7.0360e-05 - val_sparse_categorical_accuracy: 1.0000\n",
      "Epoch 72/200\n",
      "2820/2820 [==============================] - 20s 7ms/step - loss: 0.0023 - sparse_categorical_accuracy: 0.9993 - val_loss: 2.5070e-04 - val_sparse_categorical_accuracy: 1.0000\n",
      "Epoch 73/200\n",
      "2820/2820 [==============================] - 20s 7ms/step - loss: 0.0020 - sparse_categorical_accuracy: 0.9993 - val_loss: 0.0020 - val_sparse_categorical_accuracy: 0.9993\n",
      "Epoch 74/200\n",
      "2820/2820 [==============================] - 20s 7ms/step - loss: 0.0020 - sparse_categorical_accuracy: 0.9993 - val_loss: 5.0401e-06 - val_sparse_categorical_accuracy: 1.0000\n",
      "Epoch 75/200\n",
      "2820/2820 [==============================] - 21s 7ms/step - loss: 0.0018 - sparse_categorical_accuracy: 0.9994 - val_loss: 0.0031 - val_sparse_categorical_accuracy: 0.9984\n",
      "Epoch 76/200\n",
      "2820/2820 [==============================] - 21s 7ms/step - loss: 0.0024 - sparse_categorical_accuracy: 0.9992 - val_loss: 8.0156e-05 - val_sparse_categorical_accuracy: 0.9999\n",
      "Epoch 77/200\n",
      "2820/2820 [==============================] - 21s 7ms/step - loss: 0.0018 - sparse_categorical_accuracy: 0.9994 - val_loss: 8.7957e-04 - val_sparse_categorical_accuracy: 0.9996\n",
      "Epoch 78/200\n",
      "2820/2820 [==============================] - 21s 7ms/step - loss: 0.0017 - sparse_categorical_accuracy: 0.9995 - val_loss: 2.1115e-04 - val_sparse_categorical_accuracy: 1.0000\n",
      "Epoch 79/200\n",
      "2820/2820 [==============================] - 21s 7ms/step - loss: 0.0026 - sparse_categorical_accuracy: 0.9992 - val_loss: 1.5091e-04 - val_sparse_categorical_accuracy: 0.9999\n",
      "Epoch 80/200\n",
      "2820/2820 [==============================] - 21s 7ms/step - loss: 0.0028 - sparse_categorical_accuracy: 0.9993 - val_loss: 0.0013 - val_sparse_categorical_accuracy: 0.9996\n",
      "Epoch 81/200\n",
      "2820/2820 [==============================] - 20s 7ms/step - loss: 0.0021 - sparse_categorical_accuracy: 0.9994 - val_loss: 7.0524e-05 - val_sparse_categorical_accuracy: 1.0000\n",
      "Epoch 82/200\n",
      "2820/2820 [==============================] - 20s 7ms/step - loss: 0.0013 - sparse_categorical_accuracy: 0.9996 - val_loss: 2.1060e-05 - val_sparse_categorical_accuracy: 1.0000\n",
      "Epoch 83/200\n",
      "2820/2820 [==============================] - 21s 7ms/step - loss: 0.0014 - sparse_categorical_accuracy: 0.9995 - val_loss: 3.8201e-04 - val_sparse_categorical_accuracy: 0.9998\n",
      "Epoch 84/200\n",
      "2820/2820 [==============================] - 21s 7ms/step - loss: 0.0023 - sparse_categorical_accuracy: 0.9993 - val_loss: 1.1053e-04 - val_sparse_categorical_accuracy: 0.9999\n",
      "Epoch 85/200\n",
      "2820/2820 [==============================] - 21s 7ms/step - loss: 0.0020 - sparse_categorical_accuracy: 0.9994 - val_loss: 1.4905e-04 - val_sparse_categorical_accuracy: 0.9999\n",
      "Epoch 86/200\n",
      "2820/2820 [==============================] - 21s 7ms/step - loss: 0.0020 - sparse_categorical_accuracy: 0.9994 - val_loss: 7.2760e-04 - val_sparse_categorical_accuracy: 0.9999\n",
      "Epoch 87/200\n",
      "2820/2820 [==============================] - 21s 7ms/step - loss: 0.0014 - sparse_categorical_accuracy: 0.9995 - val_loss: 4.2443e-05 - val_sparse_categorical_accuracy: 1.0000\n",
      "Epoch 88/200\n"
     ]
    },
    {
     "name": "stdout",
     "output_type": "stream",
     "text": [
      "2820/2820 [==============================] - 21s 7ms/step - loss: 0.0016 - sparse_categorical_accuracy: 0.9995 - val_loss: 7.8041e-04 - val_sparse_categorical_accuracy: 0.9999\n",
      "Epoch 89/200\n",
      "2820/2820 [==============================] - 21s 7ms/step - loss: 0.0018 - sparse_categorical_accuracy: 0.9995 - val_loss: 1.4988e-04 - val_sparse_categorical_accuracy: 0.9999\n",
      "Epoch 90/200\n",
      "2820/2820 [==============================] - 20s 7ms/step - loss: 0.0014 - sparse_categorical_accuracy: 0.9996 - val_loss: 3.2456e-05 - val_sparse_categorical_accuracy: 1.0000\n",
      "Epoch 91/200\n",
      "2820/2820 [==============================] - 21s 7ms/step - loss: 0.0023 - sparse_categorical_accuracy: 0.9994 - val_loss: 1.0355e-05 - val_sparse_categorical_accuracy: 1.0000\n",
      "Epoch 92/200\n",
      "2820/2820 [==============================] - 21s 7ms/step - loss: 0.0017 - sparse_categorical_accuracy: 0.9995 - val_loss: 1.2357e-04 - val_sparse_categorical_accuracy: 0.9999\n",
      "Epoch 93/200\n",
      "2820/2820 [==============================] - 20s 7ms/step - loss: 0.0017 - sparse_categorical_accuracy: 0.9995 - val_loss: 2.6478e-04 - val_sparse_categorical_accuracy: 0.9999\n",
      "Epoch 94/200\n",
      "2820/2820 [==============================] - 20s 7ms/step - loss: 0.0011 - sparse_categorical_accuracy: 0.9997 - val_loss: 0.0017 - val_sparse_categorical_accuracy: 0.9994\n"
     ]
    },
    {
     "data": {
      "text/plain": [
       "<tensorflow.python.keras.callbacks.History at 0x7f046814bee0>"
      ]
     },
     "execution_count": 459,
     "metadata": {},
     "output_type": "execute_result"
    }
   ],
   "source": [
    "\n",
    "model.fit(dataset_train, validation_data=dataset_val, \n",
    "         epochs = 200, callbacks=[keras.callbacks.EarlyStopping(patience=20, restore_best_weights=True)])"
   ]
  },
  {
   "cell_type": "code",
   "execution_count": 460,
   "metadata": {},
   "outputs": [
    {
     "name": "stdout",
     "output_type": "stream",
     "text": [
      "2820/2820 [==============================] - 7s 2ms/step - loss: 5.0401e-06 - sparse_categorical_accuracy: 1.0000\n"
     ]
    },
    {
     "data": {
      "text/plain": [
       "[5.04014360558358e-06, 1.0]"
      ]
     },
     "execution_count": 460,
     "metadata": {},
     "output_type": "execute_result"
    }
   ],
   "source": [
    "model.evaluate(dataset_test)"
   ]
  },
  {
   "cell_type": "code",
   "execution_count": null,
   "metadata": {},
   "outputs": [],
   "source": []
  }
 ],
 "metadata": {
  "kernelspec": {
   "display_name": "Python 3",
   "language": "python",
   "name": "python3"
  },
  "language_info": {
   "codemirror_mode": {
    "name": "ipython",
    "version": 3
   },
   "file_extension": ".py",
   "mimetype": "text/x-python",
   "name": "python",
   "nbconvert_exporter": "python",
   "pygments_lexer": "ipython3",
   "version": "3.8.10"
  }
 },
 "nbformat": 4,
 "nbformat_minor": 4
}
